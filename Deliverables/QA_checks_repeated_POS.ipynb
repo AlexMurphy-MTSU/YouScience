{
 "cells": [
  {
   "cell_type": "code",
   "execution_count": 1,
   "metadata": {},
   "outputs": [
    {
     "name": "stdout",
     "output_type": "stream",
     "text": [
      "Running for YS Career Fair 2023\n"
     ]
    }
   ],
   "source": [
    "import pandas as pd\n",
    "import numpy as np\n",
    "import random\n",
    "import os\n",
    "\n",
    "# implementing random seed for control\n",
    "sd = 42\n",
    "np.random.seed(sd)\n",
    "\n",
    "# school names for consistency \n",
    "schools = ['Oakland Middle School',\n",
    "    'Siegel Middle School',\n",
    "    'Whitworth-Buchanan Middle School',\n",
    "    'Christiana Middle School',\n",
    "    'Smyrna Middle School',\n",
    "    'Stewarts Creek Middle School',\n",
    "    'Rockvale Middle School',\n",
    "    'Rocky Fork Middle School',\n",
    "    'Blackman Middle School',\n",
    "    # 'Thurman Francis Arts Academy',\n",
    "    'Rock Springs Middle School',\n",
    "    'LaVergne Middle School'\n",
    "]\n",
    "\n",
    "# get event year\n",
    "try:\n",
    "    event_year = int(input('Enter 4-digit year of YouScience Event\\n'))\n",
    "except ValueError:\n",
    "    event_year = 2022\n",
    "print(f\"Running for YS Career Fair {event_year}\")\n",
    "\n",
    "# preparing directories TEST needs to be update in fnc export_POS_rosters(), also export_room_assignments()\n",
    "log_pathway = f'../Logs/{event_year}/QA_Checks'\n",
    "if not os.path.exists(log_pathway):\n",
    "    os.makedirs(log_pathway)\n"
   ]
  },
  {
   "attachments": {},
   "cell_type": "markdown",
   "metadata": {},
   "source": [
    "### Checking for Repeated Pathways"
   ]
  },
  {
   "cell_type": "code",
   "execution_count": 28,
   "metadata": {},
   "outputs": [],
   "source": [
    "# log_name = f\"{event_year}_QA_Repeated_Pathways_check\"\n",
    "# with open(f'../Logs/{event_year}/QA_Checks/{log_name}.txt','w') as logf:\n",
    "    \n",
    "issues_dict = {}\n",
    "\n",
    "for school in schools:\n",
    "    issues_dict[school] = {} # k: index, v: repeated pathway\n",
    "\n",
    "    # read in all_students.csv\n",
    "    p = f\"../YouScienceData/Schedules/{event_year}/{school}/{school}_all_students.csv\" \n",
    "    # p = f\"../../../../Desktop/2023/{school}/{school}_all_students.csv\"\n",
    "    df = pd.read_csv(p).drop(\"Unnamed: 0\", axis=1)\n",
    "    \n",
    "    # check row for repeats\n",
    "    for i in range(len(df)):\n",
    "        X = df.iloc[i]\n",
    "        pathways = list(X[['B1','B2','B3','B4']])\n",
    "        if len(set(pathways)) < 4:\n",
    "            print(f'{school} - Problem at {X.id}')\n",
    "            student = X.id\n",
    "            # find repeated pathway\n",
    "            for pos in set(pathways):\n",
    "                pathways.remove(pos)\n",
    "            issues_dict[school][student] = pathways[0]\n",
    "    \n",
    "    \n"
   ]
  },
  {
   "attachments": {},
   "cell_type": "markdown",
   "metadata": {},
   "source": [
    "### Checking for Changed Room Assignments"
   ]
  },
  {
   "cell_type": "code",
   "execution_count": 61,
   "metadata": {},
   "outputs": [],
   "source": [
    "room_issues_dict = {}\n",
    "\n",
    "for school in schools:\n",
    "    room_issues_dict[school] = {} # k: index, v: repeated pathway\n",
    "\n",
    "    # read in all_students.csv\n",
    "    revised_p = f\"../YouScienceData/Schedules/{event_year}/{school}/room_assignments_by_demand.csv\" \n",
    "    og_p = f\"../../../../Desktop/2023/{school}/room_assignments_by_demand.csv\"\n",
    "    revised_df = pd.read_csv(revised_p).drop(\"Unnamed: 0\", axis=1)\n",
    "    og_df = pd.read_csv(og_p).drop(\"Unnamed: 0\", axis=1)\n",
    "    \n",
    "    for i in range(len(og_df)):\n",
    "        X, Y = og_df.iloc[i], revised_df.iloc[i]\n",
    "        if X.POS != Y.POS:\n",
    "            changes = {\n",
    "                \"Original Room\":og_df.loc[og_df.POS == Y.POS]['Room'].values[0],\n",
    "                \"New Room\":Y.Room,\n",
    "            }\n",
    "            room_issues_dict[school][Y.POS] = changes\n"
   ]
  },
  {
   "cell_type": "code",
   "execution_count": 62,
   "metadata": {},
   "outputs": [
    {
     "data": {
      "text/plain": [
       "[]"
      ]
     },
     "execution_count": 62,
     "metadata": {},
     "output_type": "execute_result"
    }
   ],
   "source": [
    "Problems = []\n",
    "for school in list(room_issues_dict.keys()):\n",
    "    if room_issues_dict[school] != {}:\n",
    "        Problems.append(school)\n",
    "\n",
    "Problems"
   ]
  },
  {
   "attachments": {},
   "cell_type": "markdown",
   "metadata": {},
   "source": [
    "### Why...? \n",
    "\n",
    "I am confused as to why room assignment changed at all. To my understanding, nothing in the fix implemented should have changed the assignments. Let's check to see if the rooms were swapped for equally sized rooms. If so, just revert those POS to the original rooms. "
   ]
  },
  {
   "cell_type": "code",
   "execution_count": 48,
   "metadata": {},
   "outputs": [
    {
     "data": {
      "text/plain": [
       "{'Audio Production': {'Original Room': '807', 'New Room': '806'},\n",
       " 'Audio Visual Production': {'Original Room': '808', 'New Room': '807'},\n",
       " 'Networking Systems': {'Original Room': '806', 'New Room': '808'}}"
      ]
     },
     "execution_count": 48,
     "metadata": {},
     "output_type": "execute_result"
    }
   ],
   "source": [
    "room_issues_dict[school]"
   ]
  },
  {
   "cell_type": "code",
   "execution_count": 59,
   "metadata": {},
   "outputs": [
    {
     "name": "stdout",
     "output_type": "stream",
     "text": [
      "Reversion possible for Stewarts Creek Middle School.\n",
      "Reversion possible for Rockvale Middle School.\n"
     ]
    }
   ],
   "source": [
    "\n",
    "for school in Problems:\n",
    "    # read in planning file worksheet \n",
    "    planning_df = pd.read_excel('planning.xlsx', sheet_name=school)\n",
    "    check = 0\n",
    "    for pathway in list(room_issues_dict[school].keys()):\n",
    "        assignments = room_issues_dict[school][pathway]\n",
    "        og_room, changed_room = int(assignments['Original Room']), int(assignments['New Room'])\n",
    "        og_cap = planning_df.loc[planning_df['MS Room Number'] == og_room]['Max Room Capacity'].values[0]\n",
    "        ch_cap = planning_df.loc[planning_df['MS Room Number'] == changed_room]['Max Room Capacity'].values[0]\n",
    "        # if capacities match, revert change\n",
    "        if og_cap == ch_cap:\n",
    "            continue\n",
    "        else:\n",
    "            check += 1\n",
    "            print(f\"{school} - {pathway} - Capacity mismatch in room assignments\") \n",
    "\n",
    "    if check == 0:\n",
    "        print(f\"Reversion possible for {school}.\")\n",
    "    else:\n",
    "        print(f'Need to check rosters sizes for mismatched pathways to determine if reversion is possible.')\n"
   ]
  },
  {
   "cell_type": "code",
   "execution_count": 60,
   "metadata": {},
   "outputs": [],
   "source": [
    "# Revert \n",
    "for school in Problems:\n",
    "    og_p = f\"../../../../Desktop/2023/{school}/room_assignments_by_demand.csv\"\n",
    "    og_df = pd.read_csv(og_p).drop(\"Unnamed: 0\", axis=1)\n",
    "    og_df.to_csv(f'../YouScienceData/Schedules/2023/{school}/room_assignments_by_demand.csv')"
   ]
  }
 ],
 "metadata": {
  "kernelspec": {
   "display_name": "Python 3",
   "language": "python",
   "name": "python3"
  },
  "language_info": {
   "codemirror_mode": {
    "name": "ipython",
    "version": 3
   },
   "file_extension": ".py",
   "mimetype": "text/x-python",
   "name": "python",
   "nbconvert_exporter": "python",
   "pygments_lexer": "ipython3",
   "version": "3.9.12"
  },
  "orig_nbformat": 4,
  "vscode": {
   "interpreter": {
    "hash": "b0fa6594d8f4cbf19f97940f81e996739fb7646882a419484c72d19e05852a7e"
   }
  }
 },
 "nbformat": 4,
 "nbformat_minor": 2
}
