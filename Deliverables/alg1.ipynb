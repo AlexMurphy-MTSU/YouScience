{
 "cells": [
  {
   "cell_type": "code",
   "execution_count": null,
   "metadata": {},
   "outputs": [],
   "source": [
    "import pandas as pd\n",
    "import numpy as np\n",
    "\"\"\"\n",
    "Goal: \n",
    "- Create a rudimentary matching algorithm \n",
    "- Note the process and decisions made here: \n",
    "Decisions: \n",
    "- Scope of Rough Draft: work for one school, then focus on generalizing functions/script\n",
    "- Want to track the number of clusters that were dropped due to no matching POS per school\n",
    "\"\"\""
   ]
  },
  {
   "cell_type": "code",
   "execution_count": null,
   "metadata": {},
   "outputs": [],
   "source": [
    "# (1) Need to read in by_school match csv and tally the demand of YS clusters per school\n",
    "# (2) Need to convert YS clusters into POSs per school\n",
    "# (3) Need to determine capacity vector for school"
   ]
  },
  {
   "cell_type": "code",
   "execution_count": null,
   "metadata": {},
   "outputs": [],
   "source": [
    "schools = ['Oakland Middle School',\n",
    "    'Siegel Middle School',\n",
    "    'Whitworth-Buchanan Middle School',\n",
    "    'Christiana Middle School',\n",
    "    'Smyrna Middle School',\n",
    "    'Stewarts Creek Middle School',\n",
    "    'Rockvale Middle School',\n",
    "    'Rocky Fork Middle School',\n",
    "    'Blackman Middle School',\n",
    "    'Thurman Francis Arts Academy',\n",
    "    'Rock Springs Middle School',\n",
    "    'LaVergne Middle School'\n",
    "]"
   ]
  },
  {
   "cell_type": "code",
   "execution_count": null,
   "metadata": {},
   "outputs": [],
   "source": [
    "# (1)\n",
    "# read in csv\n",
    "school = 'Blackman Middle School'\n",
    "path = 'YS_Criteria_by_School/' + school + ' YSCriteria.csv'\n",
    "school_clusters_df = pd.read_csv(path)\n",
    "# tidy\n",
    "school_clusters_df.drop('Unnamed: 0', axis=1, inplace=True)\n",
    "# read in conversion table\n",
    "djp_df = pd.read_excel('../direct_join_prepared.xlsx')\n",
    "# tidy\n",
    "djp_df.drop('Unnamed: 0', axis=1, inplace=True)\n",
    "# filter to school specific\n",
    "cluster_df = djp_df[['YouScience Clusters', school]]"
   ]
  },
  {
   "cell_type": "code",
   "execution_count": null,
   "metadata": {},
   "outputs": [],
   "source": [
    "# (2)\n",
    "# creating replacement dictionary\n",
    "to_replace = {}\n",
    "for i in range(len(cluster_df)):\n",
    "    X = cluster_df.iloc[i]\n",
    "    to_replace[X['YouScience Clusters']] = X[school]\n",
    "\n",
    "# replacing clusters with POSs\n",
    "school_POS_df = school_clusters_df.replace(to_replace=to_replace)\n",
    "school_POS_df.replace({np.NAN:0}, inplace=True)\n",
    "# unsupported matches are replaced with POS = 0"
   ]
  },
  {
   "cell_type": "code",
   "execution_count": null,
   "metadata": {},
   "outputs": [],
   "source": [
    "# determining demand of available POS, using 1st and 2nd matches\n",
    "l = school_POS_df.First.value_counts() + school_POS_df.Second.value_counts()\n",
    "ord = dict(l.sort_values(ascending=False))"
   ]
  },
  {
   "cell_type": "code",
   "execution_count": null,
   "metadata": {},
   "outputs": [],
   "source": [
    "# need to create the capacity vector per school \n",
    "# all rooms save for auditorium and library have capacity of 35, otherwise 50\n",
    "# the planning.xlsx doc has been created with sheets with names that match the schools list above\n",
    "planning_df = pd.read_excel('planning.xlsx',sheet_name=school)\n",
    "rooms = list(planning_df['MS Room #'])\n",
    "# checking to assign size, capacity object will be dict with room #: size\n",
    "capacity = {}\n",
    "for room in rooms:\n",
    "    if room in ['Library', 'Auditorium']:\n",
    "        capacity[room] = 50\n",
    "    else:\n",
    "        capacity[room] = 35\n",
    "check = sum(capacity.values())\n",
    "if check < len(school_POS_df):\n",
    "    print(f'Capacity ({check}) does not fit school size ({len(school_POS_df)})')"
   ]
  },
  {
   "cell_type": "code",
   "execution_count": null,
   "metadata": {},
   "outputs": [],
   "source": [
    "X = school_POS_df.loc[school_POS_df.First == 0]\n",
    "len(X)"
   ]
  },
  {
   "cell_type": "code",
   "execution_count": null,
   "metadata": {},
   "outputs": [],
   "source": [
    "Y = X.loc[X.Second == 0]\n",
    "len(Y)"
   ]
  }
 ],
 "metadata": {
  "kernelspec": {
   "display_name": "Python 3.9.12 64-bit",
   "language": "python",
   "name": "python3"
  },
  "language_info": {
   "codemirror_mode": {
    "name": "ipython",
    "version": 3
   },
   "file_extension": ".py",
   "mimetype": "text/x-python",
   "name": "python",
   "nbconvert_exporter": "python",
   "pygments_lexer": "ipython3",
   "version": "3.9.12"
  },
  "orig_nbformat": 4,
  "vscode": {
   "interpreter": {
    "hash": "b0fa6594d8f4cbf19f97940f81e996739fb7646882a419484c72d19e05852a7e"
   }
  }
 },
 "nbformat": 4,
 "nbformat_minor": 2
}
