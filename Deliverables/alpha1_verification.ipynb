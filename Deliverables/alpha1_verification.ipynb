{
 "cells": [
  {
   "cell_type": "code",
   "execution_count": 18,
   "metadata": {},
   "outputs": [],
   "source": [
    "import pandas as pd\n",
    "import numpy as np\n",
    "from collections import Counter\n",
    "\n",
    "# implementing random seed for control\n",
    "sd = 42\n",
    "np.random.seed(sd)"
   ]
  },
  {
   "cell_type": "code",
   "execution_count": 25,
   "metadata": {},
   "outputs": [
    {
     "name": "stdout",
     "output_type": "stream",
     "text": [
      "Oakland Middle School: lists are correct length\n",
      "True\n",
      "Siegel Middle School: lists are correct length\n",
      "True\n",
      "Whitworth-Buchanan Middle School: lists are correct length\n",
      "True\n",
      "Christiana Middle School: lists are correct length\n",
      "True\n",
      "Smyrna Middle School: lists are correct length\n",
      "True\n",
      "Stewarts Creek Middle School: lists are correct length\n",
      "True\n",
      "Rockvale Middle School: lists are correct length\n",
      "True\n",
      "Rocky Fork Middle School: lists are correct length\n",
      "True\n",
      "Blackman Middle School: lists are correct length\n",
      "True\n",
      "Thurman Francis Arts Academy: lists are correct length\n",
      "True\n",
      "Rock Springs Middle School: lists are correct length\n",
      "True\n",
      "LaVergne Middle School: lists are correct length\n",
      "True\n"
     ]
    }
   ],
   "source": [
    "# school names for consistency \n",
    "schools = ['Oakland Middle School',\n",
    "    'Siegel Middle School',\n",
    "    'Whitworth-Buchanan Middle School',\n",
    "    'Christiana Middle School',\n",
    "    'Smyrna Middle School',\n",
    "    'Stewarts Creek Middle School',\n",
    "    'Rockvale Middle School',\n",
    "    'Rocky Fork Middle School',\n",
    "    'Blackman Middle School',\n",
    "    'Thurman Francis Arts Academy',\n",
    "    'Rock Springs Middle School',\n",
    "    'LaVergne Middle School'\n",
    "]\n",
    "\n",
    "# Priority: verify that every student on a school's skyward roster has a schedule\n",
    "# Secondary: consider metric for deciding if the schedules are \"good\"/\"good enough\"\n",
    "\n",
    "for school in schools:\n",
    "    # initialize file_paths\n",
    "    skyward_path = f'../YouScienceData/Skyward/Skyward_{school}.xlsx'\n",
    "    schedule_path = f'../YouScienceData/Schedules/{school}_test.csv'\n",
    "\n",
    "    # read in skyward roster and createed schedule per school\n",
    "    skyward_df = pd.read_excel(skyward_path)\n",
    "    schedule_df = pd.read_csv(schedule_path)\n",
    "\n",
    "    # checking lengths, schedules should be skyward + 5 empty for last-minute additions\n",
    "    # EDIT: known problem of duplicated student emails in the event of changing teachers\n",
    "    n = len(schedule_df)\n",
    "    m = len(skyward_df.drop_duplicates(\"Student's School Email\"))\n",
    "    if n == m + 5:\n",
    "        print(f'{school}: lists are correct length')\n",
    "    else:\n",
    "        print(f'{school}: # of schedules = {n}, # in skyward = {m}')\n",
    "        # implies the presence of duplicates, checking if teacher changed/left\n",
    "        dup_list = skyward_df[skyward_df.duplicated(\"Student's School Email\")][\"Student's School Email\"]\n",
    "        # check_list will contain the teachers of a given repeated student\n",
    "        check_list = Counter()\n",
    "        for email in dup_list:\n",
    "            X = skyward_df.loc[skyward_df[\"Student's School Email\"] == email]\n",
    "            check_list.update(list(X['CY Teacher Last Name'].values))\n",
    "        print(m-n + 5, check_list)\n",
    "\n",
    "    schedule_emails = set(list(schedule_df.email))\n",
    "    skyward_emails = set(list(skyward_df[\"Student's School Email\"]))\n",
    "    # checking that each list contains the same emails (ignoring the empty 5 in schedules)\n",
    "    print(len(skyward_emails) == len(skyward_emails.intersection(schedule_emails)))\n",
    "        \n",
    "\n"
   ]
  },
  {
   "cell_type": "code",
   "execution_count": null,
   "metadata": {},
   "outputs": [],
   "source": []
  }
 ],
 "metadata": {
  "kernelspec": {
   "display_name": "Python 3.9.12 64-bit",
   "language": "python",
   "name": "python3"
  },
  "language_info": {
   "codemirror_mode": {
    "name": "ipython",
    "version": 3
   },
   "file_extension": ".py",
   "mimetype": "text/x-python",
   "name": "python",
   "nbconvert_exporter": "python",
   "pygments_lexer": "ipython3",
   "version": "3.9.12"
  },
  "orig_nbformat": 4,
  "vscode": {
   "interpreter": {
    "hash": "b0fa6594d8f4cbf19f97940f81e996739fb7646882a419484c72d19e05852a7e"
   }
  }
 },
 "nbformat": 4,
 "nbformat_minor": 2
}
