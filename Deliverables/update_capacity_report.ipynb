{
 "cells": [
  {
   "cell_type": "code",
   "execution_count": 1,
   "metadata": {},
   "outputs": [],
   "source": [
    "import pandas as pd\n",
    "import numpy as np\n",
    "import random\n",
    "\n",
    "# implementing random seed for control\n",
    "np.random.seed(42)\n",
    "\n",
    "# school names for consistency \n",
    "schools = ['Oakland Middle School',\n",
    "    'Siegel Middle School',\n",
    "    'Whitworth-Buchanan Middle School',\n",
    "    'Christiana Middle School',\n",
    "    'Smyrna Middle School',\n",
    "    'Stewarts Creek Middle School',\n",
    "    'Rockvale Middle School',\n",
    "    'Rocky Fork Middle School',\n",
    "    'Blackman Middle School',\n",
    "    'Thurman Francis Arts Academy',\n",
    "    'Rock Springs Middle School',\n",
    "    'LaVergne Middle School'\n",
    "]"
   ]
  },
  {
   "cell_type": "markdown",
   "metadata": {},
   "source": [
    "# Decisions\n",
    "\n",
    "### New Capacity_Report.csv\n",
    "\n",
    "Updated Features (5)\n",
    "<ul>\n",
    "    <li><i>\"School\"</i>, unchanged.</li></br>\n",
    "    <li><strong><i>\"Status\"</i></strong>, updated with now 3 options that describe ONLY volume of 8th graders, NOT whether Pathways demand is accomodated. \n",
    "    <ol>\n",
    "        <li>'Sufficient' indicates that the volume of students (VOS) can be housed with the alotted rooms.</li>\n",
    "        <li>'Suff. w/ All' indicates that the VOS can be accomodated only by including the rooms labeled (if needed) on the county provided planning document.</li>\n",
    "        <li>'Insufficient' indicates not enough classroom space has been provided by the school.</li>\n",
    "    </ol>\n",
    "    </li></br>\n",
    "    <li><strong><i>\"Assigned Default Capacity\"</i></strong>, formerly \"Assigned Capacity\", represents total volume of rooms excluding any labeled (if needed).</li></br>\n",
    "    <li><strong><i>\"Assigned Max Capacity\"</i></strong>, added, represents the total classroom volume provided by school.</li></br>\n",
    "    <li><i>\"8th Graders\"</i>, unchanged, volume according to school's skyward roster.</li></br>\n",
    "    <li><s><i>\"Number of Large Rooms\"</i></s>, removed, in the updated files from the county, each school provides a near-unique capacity vector with unspecified number of sizes instead of the previous binary split between 50/35 volume for rooms.</li></br>\n",
    "    <li><s><i>\"Number of Small Rooms\"</i></s>, removed, see preceding bullet.</li></br>\n",
    "</ul>\n",
    "\n",
    "### Creating a df of capacity vectors per school\n",
    "<strong>Issue:</strong> the current planning document from the county does not have an updated list of Pathways of Study per shcool. It might be different that previously, but trying to solve the last iterations problem might not be worth it if the new iteration will be addressing a different situation. </br>\n",
    "\n",
    "<u>Current proposed export</u>: a .csv document with two features: school, and a dict-like object that represents the schools capacity vector along with room assignment. </br>\n",
    "\n",
    "Motivation: could assign correct rooms on the forward part of the algorithm without an extra lift, and eliminate the need to update the planning document after-the-fact with new assignments.  \n",
    "\n",
    "# Next Steps\n",
    "\n",
    "Need to implement metrics for measuring effectiveness of meeting POS demand. As of now, all schools have provided enough space without their (if needed) rooms. In several cases, those rooms are very large (50+ occupancy). Yes, they can house the students without them, but are they serving the students effectively? "
   ]
  },
  {
   "cell_type": "code",
   "execution_count": null,
   "metadata": {},
   "outputs": [],
   "source": [
    "\"\"\" \n",
    "Objectives:\n",
    "(1) Implement sufficient cpacity clause into new capacity_report.py\n",
    "(2) (A)Create and (B)store capcity vector per school\n",
    "(3) Brainstorm handling for TF/SW combo...\n",
    "\n",
    "Citation: \n",
    "- https://stackoverflow.com/questions/613183/how-do-i-sort-a-dictionary-by-value, \n",
    "    provided insight into efficiently utilizing lambda syntax to sort vector_dict objects\n",
    "\n",
    "\"\"\""
   ]
  },
  {
   "cell_type": "code",
   "execution_count": 2,
   "metadata": {},
   "outputs": [],
   "source": [
    "# capacity report features\n",
    "capacity_report = {\n",
    "    #(A-E)\n",
    "    'School':[],\n",
    "    'Status':[],\n",
    "    'Assigned Default Capacity':[],\n",
    "    'Assigned Max Capacity':[],\n",
    "    '8th Graders':[],\n",
    "    # 'Number of Large Rooms':[],\n",
    "    # 'Number of Small Rooms':[],\n",
    "}\n",
    "\n",
    "capacity_vector_report = {\n",
    "    #(F-G)\n",
    "    'School':[],\n",
    "    'Capacity_Vector':[],\n",
    "}"
   ]
  },
  {
   "cell_type": "code",
   "execution_count": 3,
   "metadata": {},
   "outputs": [],
   "source": [
    "# building capacity report AND building capacity vector\n",
    "for school in schools:\n",
    "    # read in planning document\n",
    "    # NOTE: currently reading in new doc from desktop until county finalizes docs\n",
    "    p = '../../../../Desktop/From RuCo/planning.xlsx'\n",
    "    try:\n",
    "        if school == 'Whitworth-Buchanan Middle School':\n",
    "            planning_df = pd.read_excel(p,sheet_name='Whitworth-Buchanan Middle Schoo')\n",
    "        else:\n",
    "            planning_df = pd.read_excel(p,sheet_name=school)\n",
    "    except:\n",
    "        continue\n",
    "    #(A,F)\n",
    "    capacity_report['School'].append(school)\n",
    "    capacity_vector_report['School'].append(school)\n",
    "\n",
    "    #(D)\n",
    "    max_cap = sum(list(planning_df['Max Room Capacity']))\n",
    "    capacity_report['Assigned Max Capacity'].append(max_cap)\n",
    "\n",
    "    #(E)\n",
    "    # read in skyward roster for length, NOTE: currently reading from desktop folder\n",
    "    sky_p = f'../../../../Desktop/From RuCo/Skyward/Skyward_{school}.xlsx'\n",
    "    sky_df = pd.read_excel(sky_p)\n",
    "    volume = len(sky_df.drop_duplicates(\"Student's School Email\")) # necessary! \n",
    "    capacity_report['8th Graders'].append(volume)\n",
    "    \n",
    "    #(C), (G), pt. 1 set for default rooms\n",
    "    capacity_vector = {}\n",
    "    default_rooms, if_needed_rooms = [], [] # need this for building capacity vector if not using all rooms\n",
    "    default_capacity = 0\n",
    "    for room in list(planning_df['MS Room Number']):\n",
    "        cap = planning_df.loc[planning_df['MS Room Number'] == room, 'Max Room Capacity'].values[0]\n",
    "        if \"(if needed)\" not in str(room):\n",
    "            default_rooms.append(room)\n",
    "            default_capacity += cap\n",
    "            capacity_vector[room] = cap\n",
    "        else:\n",
    "            if_needed_rooms.append(room)\n",
    "    capacity_report['Assigned Default Capacity'].append(default_capacity)\n",
    "    \n",
    "    #(B) - determining status, NOTE: this does not reflect capcity to meet demand for pathways of study\n",
    "    diff = default_capacity - volume\n",
    "    abs_diff = max_cap - volume\n",
    "    if diff > 0:\n",
    "        status = ['Sufficient',0]\n",
    "    elif diff < 0 and abs_diff < 0:\n",
    "        status = ['Insufficient',1]\n",
    "    else:\n",
    "        status = ['Suff. w/ All',2]\n",
    "    capacity_report['Status'].append(status[0])\n",
    "\n",
    "    #(G), pt. 2 - checking if we need to add conditionally assigned rooms\n",
    "    if status[1] != 0: # NOT use only default\n",
    "        for room in if_needed_rooms:\n",
    "            cap = planning_df.loc[planning_df['MS Room Number'] == room, 'Max Room Capacity'].values[0]\n",
    "            capacity_vector[room] = cap\n",
    "\n",
    "    #(G), pt. 3 sorting capacity vector in descending order, gets sorted on unpacking\n",
    "    # capacity_vector = {k: v for k, v in sorted(capacity_vector.items(), key=lambda item: item[1])}\n",
    "    capacity_vector_report['Capacity_Vector'].append(capacity_vector)\n",
    "    "
   ]
  },
  {
   "cell_type": "code",
   "execution_count": 4,
   "metadata": {},
   "outputs": [
    {
     "data": {
      "text/html": [
       "<div>\n",
       "<style scoped>\n",
       "    .dataframe tbody tr th:only-of-type {\n",
       "        vertical-align: middle;\n",
       "    }\n",
       "\n",
       "    .dataframe tbody tr th {\n",
       "        vertical-align: top;\n",
       "    }\n",
       "\n",
       "    .dataframe thead th {\n",
       "        text-align: right;\n",
       "    }\n",
       "</style>\n",
       "<table border=\"1\" class=\"dataframe\">\n",
       "  <thead>\n",
       "    <tr style=\"text-align: right;\">\n",
       "      <th></th>\n",
       "      <th>School</th>\n",
       "      <th>Status</th>\n",
       "      <th>Assigned Default Capacity</th>\n",
       "      <th>Assigned Max Capacity</th>\n",
       "      <th>8th Graders</th>\n",
       "    </tr>\n",
       "  </thead>\n",
       "  <tbody>\n",
       "    <tr>\n",
       "      <th>0</th>\n",
       "      <td>Oakland Middle School</td>\n",
       "      <td>Sufficient</td>\n",
       "      <td>475</td>\n",
       "      <td>475</td>\n",
       "      <td>405</td>\n",
       "    </tr>\n",
       "    <tr>\n",
       "      <th>1</th>\n",
       "      <td>Siegel Middle School</td>\n",
       "      <td>Sufficient</td>\n",
       "      <td>655</td>\n",
       "      <td>655</td>\n",
       "      <td>402</td>\n",
       "    </tr>\n",
       "    <tr>\n",
       "      <th>2</th>\n",
       "      <td>Whitworth-Buchanan Middle School</td>\n",
       "      <td>Sufficient</td>\n",
       "      <td>440</td>\n",
       "      <td>440</td>\n",
       "      <td>270</td>\n",
       "    </tr>\n",
       "    <tr>\n",
       "      <th>3</th>\n",
       "      <td>Christiana Middle School</td>\n",
       "      <td>Insufficient</td>\n",
       "      <td>0</td>\n",
       "      <td>0</td>\n",
       "      <td>331</td>\n",
       "    </tr>\n",
       "    <tr>\n",
       "      <th>4</th>\n",
       "      <td>Smyrna Middle School</td>\n",
       "      <td>Sufficient</td>\n",
       "      <td>430</td>\n",
       "      <td>480</td>\n",
       "      <td>303</td>\n",
       "    </tr>\n",
       "    <tr>\n",
       "      <th>5</th>\n",
       "      <td>Stewarts Creek Middle School</td>\n",
       "      <td>Sufficient</td>\n",
       "      <td>390</td>\n",
       "      <td>390</td>\n",
       "      <td>343</td>\n",
       "    </tr>\n",
       "    <tr>\n",
       "      <th>6</th>\n",
       "      <td>Rockvale Middle School</td>\n",
       "      <td>Sufficient</td>\n",
       "      <td>807</td>\n",
       "      <td>897</td>\n",
       "      <td>502</td>\n",
       "    </tr>\n",
       "    <tr>\n",
       "      <th>7</th>\n",
       "      <td>Rocky Fork Middle School</td>\n",
       "      <td>Sufficient</td>\n",
       "      <td>340</td>\n",
       "      <td>430</td>\n",
       "      <td>238</td>\n",
       "    </tr>\n",
       "    <tr>\n",
       "      <th>8</th>\n",
       "      <td>Blackman Middle School</td>\n",
       "      <td>Sufficient</td>\n",
       "      <td>835</td>\n",
       "      <td>835</td>\n",
       "      <td>561</td>\n",
       "    </tr>\n",
       "    <tr>\n",
       "      <th>9</th>\n",
       "      <td>Rock Springs Middle School</td>\n",
       "      <td>Sufficient</td>\n",
       "      <td>450</td>\n",
       "      <td>450</td>\n",
       "      <td>401</td>\n",
       "    </tr>\n",
       "    <tr>\n",
       "      <th>10</th>\n",
       "      <td>LaVergne Middle School</td>\n",
       "      <td>Sufficient</td>\n",
       "      <td>400</td>\n",
       "      <td>450</td>\n",
       "      <td>378</td>\n",
       "    </tr>\n",
       "  </tbody>\n",
       "</table>\n",
       "</div>"
      ],
      "text/plain": [
       "                              School        Status  Assigned Default Capacity  \\\n",
       "0              Oakland Middle School    Sufficient                        475   \n",
       "1               Siegel Middle School    Sufficient                        655   \n",
       "2   Whitworth-Buchanan Middle School    Sufficient                        440   \n",
       "3           Christiana Middle School  Insufficient                          0   \n",
       "4               Smyrna Middle School    Sufficient                        430   \n",
       "5       Stewarts Creek Middle School    Sufficient                        390   \n",
       "6             Rockvale Middle School    Sufficient                        807   \n",
       "7           Rocky Fork Middle School    Sufficient                        340   \n",
       "8             Blackman Middle School    Sufficient                        835   \n",
       "9         Rock Springs Middle School    Sufficient                        450   \n",
       "10            LaVergne Middle School    Sufficient                        400   \n",
       "\n",
       "    Assigned Max Capacity  8th Graders  \n",
       "0                     475          405  \n",
       "1                     655          402  \n",
       "2                     440          270  \n",
       "3                       0          331  \n",
       "4                     480          303  \n",
       "5                     390          343  \n",
       "6                     897          502  \n",
       "7                     430          238  \n",
       "8                     835          561  \n",
       "9                     450          401  \n",
       "10                    450          378  "
      ]
     },
     "execution_count": 4,
     "metadata": {},
     "output_type": "execute_result"
    }
   ],
   "source": [
    "pd.DataFrame(capacity_report, columns=list(capacity_report.keys()))"
   ]
  },
  {
   "cell_type": "code",
   "execution_count": 6,
   "metadata": {},
   "outputs": [],
   "source": [
    "pd.DataFrame(capacity_vector_report, columns=list(capacity_vector_report.keys())).to_csv('../YouScienceData/Reports/capacity_vectors.csv')"
   ]
  },
  {
   "cell_type": "code",
   "execution_count": 8,
   "metadata": {},
   "outputs": [],
   "source": [
    "def extract_capacity_vector(school):\n",
    "    # read in capacity vector object \n",
    "    df = pd.read_csv('../YouScienceData/Reports/capacity_vectors.csv')\n",
    "    df.drop(\"Unnamed: 0\", axis=1, inplace=True)\n",
    "\n",
    "    # inital object is long str\n",
    "    vector_str = df.loc[df.School == school, \"Capacity_Vector\"].values[0]\n",
    "    if vector_str == '{}':\n",
    "        print(f'{school} missing data.')\n",
    "        return 0\n",
    "    # transforms it into list of room: cap strings\n",
    "    vector_list = vector_str.split(', ')\n",
    "\n",
    "    # transforming into actionable dictionary vector\n",
    "    vector_dict = {}\n",
    "    for item in vector_list:\n",
    "        k, v = item.split(': ')\n",
    "        # checking for first item to have '{'\n",
    "        if '{' in k:\n",
    "            k = k[1:]\n",
    "        # checking for last item to have '}' \n",
    "        if '}' in v:\n",
    "            v = v[:-1]\n",
    "        try:\n",
    "            vector_dict[int(k)] = int(v)\n",
    "        except ValueError:\n",
    "            # shave off quotations \n",
    "            vector_dict[k[1:-1]] = int(v)\n",
    "    \n",
    "    return {k: v for k, v in sorted(vector_dict.items(), key=lambda item: item[1], reverse=True)}\n"
   ]
  },
  {
   "cell_type": "code",
   "execution_count": 12,
   "metadata": {},
   "outputs": [
    {
     "name": "stdout",
     "output_type": "stream",
     "text": [
      "Christiana Middle School missing data.\n"
     ]
    }
   ],
   "source": [
    "# trying over all schools\n",
    "all_cap_vectors = {}\n",
    "for school in schools:\n",
    "    if school == 'Thurman Francis Arts Academy':\n",
    "        continue\n",
    "    \n",
    "    all_cap_vectors[school] = extract_capacity_vector(school=school)"
   ]
  },
  {
   "cell_type": "code",
   "execution_count": 13,
   "metadata": {},
   "outputs": [
    {
     "name": "stdout",
     "output_type": "stream",
     "text": [
      "Thurman Francis Arts Academy\n"
     ]
    }
   ],
   "source": [
    "ran = list(all_cap_vectors.keys())\n",
    "for school in schools:\n",
    "    if school not in ran:\n",
    "        print(school)"
   ]
  },
  {
   "cell_type": "code",
   "execution_count": 14,
   "metadata": {},
   "outputs": [
    {
     "data": {
      "text/plain": [
       "['Oakland Middle School',\n",
       " 'Siegel Middle School',\n",
       " 'Whitworth-Buchanan Middle School',\n",
       " 'Christiana Middle School',\n",
       " 'Smyrna Middle School',\n",
       " 'Stewarts Creek Middle School',\n",
       " 'Rockvale Middle School',\n",
       " 'Rocky Fork Middle School',\n",
       " 'Blackman Middle School',\n",
       " 'Thurman Francis Arts Academy',\n",
       " 'Rock Springs Middle School',\n",
       " 'LaVergne Middle School']"
      ]
     },
     "execution_count": 14,
     "metadata": {},
     "output_type": "execute_result"
    }
   ],
   "source": [
    "schools"
   ]
  },
  {
   "cell_type": "code",
   "execution_count": 21,
   "metadata": {},
   "outputs": [
    {
     "data": {
      "text/plain": [
       "{'Library': 60,\n",
       " 807: 55,\n",
       " 805: 52,\n",
       " 800: 40,\n",
       " 801: 40,\n",
       " 802: 40,\n",
       " 803: 40,\n",
       " 804: 40,\n",
       " 806: 40,\n",
       " 809: 40,\n",
       " 810: 40,\n",
       " 811: 40,\n",
       " 812: 40,\n",
       " 813: 40,\n",
       " 814: 40,\n",
       " 815: 40,\n",
       " 816: 40,\n",
       " 819: 40,\n",
       " 820: 40}"
      ]
     },
     "execution_count": 21,
     "metadata": {},
     "output_type": "execute_result"
    }
   ],
   "source": [
    "all_cap_vectors[schools[6]]"
   ]
  },
  {
   "cell_type": "code",
   "execution_count": null,
   "metadata": {},
   "outputs": [],
   "source": [
    "test_dict = {\n",
    "    'str1':25,\n",
    "    'str2':15,\n",
    "    'str3':103,\n",
    "    'str4':11,\n",
    "    'str5':1000,\n",
    "}\n",
    "\n",
    "test_dict = {k: v for k, v in sorted(test_dict.items(), key=lambda item: item[1], reverse=True)}\n",
    "test_dict"
   ]
  },
  {
   "cell_type": "markdown",
   "metadata": {},
   "source": [
    "# Checking Skyward Docs. \n",
    "\n",
    "Checking format. Found exception with Oakland Middle School\n"
   ]
  },
  {
   "cell_type": "code",
   "execution_count": null,
   "metadata": {},
   "outputs": [],
   "source": [
    "for school in schools:\n",
    "    sky_p = f'../../../../Desktop/From RuCo/Skyward/Skyward_{school}.xlsx'\n",
    "    sky_df = pd.read_excel(sky_p)\n",
    "    print(school, len(sky_df), len(sky_df.drop_duplicates(\"Student's School Email\")))"
   ]
  }
 ],
 "metadata": {
  "kernelspec": {
   "display_name": "Python 3.9.12 64-bit",
   "language": "python",
   "name": "python3"
  },
  "language_info": {
   "codemirror_mode": {
    "name": "ipython",
    "version": 3
   },
   "file_extension": ".py",
   "mimetype": "text/x-python",
   "name": "python",
   "nbconvert_exporter": "python",
   "pygments_lexer": "ipython3",
   "version": "3.9.12"
  },
  "orig_nbformat": 4,
  "vscode": {
   "interpreter": {
    "hash": "b0fa6594d8f4cbf19f97940f81e996739fb7646882a419484c72d19e05852a7e"
   }
  }
 },
 "nbformat": 4,
 "nbformat_minor": 2
}
