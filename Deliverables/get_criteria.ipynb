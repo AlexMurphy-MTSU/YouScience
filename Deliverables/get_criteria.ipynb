{
 "cells": [
  {
   "cell_type": "code",
   "execution_count": null,
   "metadata": {},
   "outputs": [],
   "source": [
    "import pandas as pd\n",
    "import numpy as np"
   ]
  },
  {
   "cell_type": "code",
   "execution_count": null,
   "metadata": {},
   "outputs": [],
   "source": [
    "\"\"\"\n",
    "Objectives:\n",
    "1) Determine the number of students per school that have 0-4 'Yes's (matches based on value system as is)\n",
    "Procedure:\n",
    "<> Compile df that produces the 6 ordered choices per student by the value system\n",
    "<> filter/iterate by school\n",
    "\"\"\""
   ]
  },
  {
   "cell_type": "code",
   "execution_count": null,
   "metadata": {},
   "outputs": [],
   "source": [
    "X = pd.read_csv('../Heatmaps/RCS_compiled.csv')\n",
    "X.drop('Unnamed: 0', axis=1, inplace=True)\n",
    "X.head()"
   ]
  },
  {
   "cell_type": "code",
   "execution_count": null,
   "metadata": {},
   "outputs": [],
   "source": [
    "def get_choices_by_school(school = None):\n",
    "    # filtering school choice\n",
    "    if school:\n",
    "        df = X[X.organization == school]\n",
    "    else:\n",
    "        df = X\n",
    "\n",
    "    id_list = list(set(df.id))\n",
    "    criteria = {\n",
    "        'id':[],\n",
    "        'name':[],\n",
    "        'email':[],\n",
    "        'First':[],\n",
    "        'Second':[],\n",
    "        'Third':[],\n",
    "        'Fourth':[],\n",
    "        'Fifth':[],\n",
    "        'Sixth':[],\n",
    "        'Enough Choices':[]\n",
    "    }\n",
    "    for id in id_list:\n",
    "        Y = df.loc[df.id == id]\n",
    "        criteria['id'].append(int(id))\n",
    "        name = str(Y.first_name.values[0]) + ' ' + str(Y.last_name.values[0])\n",
    "        criteria['name'].append(name)\n",
    "        criteria['email'].append(list(Y.email)[0].split('-')[0])\n",
    "        apt = Y[Y.fit_rank == 1]['aptitude_fit'].values[0]\n",
    "        # creating a flag in the event that a student does not have 4 unique YS clusters from ranking system\n",
    "        # First choice = 1st aptitude\n",
    "        c1 = Y[Y.fit_rank == 1]['aptitude_fit'].values[0]\n",
    "        criteria['First'].append(c1)\n",
    "        # second choice = 1st interest\n",
    "        c2 = Y[Y.fit_rank == 1]['interest_fit'].values[0]\n",
    "        criteria['Second'].append(c2)\n",
    "        # third choice = 2nd aptitude\n",
    "        c3 = Y[Y.fit_rank == 2]['aptitude_fit'].values[0]\n",
    "        criteria['Third'].append(c3)\n",
    "        # fourth choice = 3rd aptitude\n",
    "        c4 = Y[Y.fit_rank == 3]['aptitude_fit'].values[0]\n",
    "        criteria['Fourth'].append(c4)\n",
    "        # fifth choice = 2nd interest\n",
    "        c5 = Y[Y.fit_rank == 2]['interest_fit'].values[0]\n",
    "        criteria['Fifth'].append(c5)\n",
    "        # sixth choice = 3rd interest\n",
    "        c6 = Y[Y.fit_rank == 3]['interest_fit'].values[0]\n",
    "        criteria['Sixth'].append(c6)\n",
    "\n",
    "        check = set([c1, c2, c3, c4, c5, c6])\n",
    "        if len(check) < 4:\n",
    "            criteria['Enough Choices'].append(0)\n",
    "        else:\n",
    "            criteria['Enough Choices'].append(1)\n",
    "        \n",
    "\n",
    "    return criteria"
   ]
  },
  {
   "cell_type": "code",
   "execution_count": null,
   "metadata": {},
   "outputs": [],
   "source": [
    "for school in list(set(X.organization)):\n",
    "    print(f'Working on: {school}')\n",
    "    criteria = get_choices_by_school(school)\n",
    "    df = pd.DataFrame(criteria)\n",
    "    path = 'YS_Criteria_by_School/' + school + ' YSCriteria.csv'\n",
    "    df.to_csv(path)\n",
    "    print('Done.')"
   ]
  },
  {
   "cell_type": "code",
   "execution_count": null,
   "metadata": {},
   "outputs": [],
   "source": [
    "RCS_all = get_choices_by_school()\n",
    "df = pd.DataFrame(RCS_all)\n",
    "df.to_csv('YS_Criteria_by_School/All RCS YS Criteria.csv')"
   ]
  },
  {
   "cell_type": "code",
   "execution_count": null,
   "metadata": {},
   "outputs": [],
   "source": []
  }
 ],
 "metadata": {
  "interpreter": {
   "hash": "b0fa6594d8f4cbf19f97940f81e996739fb7646882a419484c72d19e05852a7e"
  },
  "kernelspec": {
   "display_name": "Python 3.9.12 64-bit",
   "language": "python",
   "name": "python3"
  },
  "language_info": {
   "codemirror_mode": {
    "name": "ipython",
    "version": 3
   },
   "file_extension": ".py",
   "mimetype": "text/x-python",
   "name": "python",
   "nbconvert_exporter": "python",
   "pygments_lexer": "ipython3",
   "version": "3.9.12"
  },
  "orig_nbformat": 4
 },
 "nbformat": 4,
 "nbformat_minor": 2
}
