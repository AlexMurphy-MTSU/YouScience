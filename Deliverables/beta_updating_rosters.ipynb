{
 "cells": [
  {
   "attachments": {},
   "cell_type": "markdown",
   "metadata": {},
   "source": [
    "## Overview\n",
    "\n",
    "Previous years documents showed that the YouScience results per school provided by the county included students that were not in 8th grade. The relavent purpose within the algorithm of the original notebook was to filter the YouScience files to 8th graders and track those 8th graders that did not have YouScience results. \n",
    "\n",
    "### Constraints, Conditions\n",
    "\n",
    "<table>\n",
    "    <tr>\n",
    "        <td>(T) Troubleshooting</td>\n",
    "        <td>(E) Export constraint</td>\n",
    "        <td>(F) Future Development</td>\n",
    "    </tr>\n",
    "</table>\n",
    "\n",
    "<ol>\n",
    "    <li>(T) Known issue: there are non-8th grade students in raw YouScience files, the YouScience files do have a \"grad_year\" feature, so if you know the grad year you can also just filter them that way</li></br>\n",
    "    <li>(T) Known issue: currently, at least one school's skyward files has duplicated students (resolve by droping duplicates on student email feature)</li></br>\n",
    "    <li>(T) Be aware: related to the second issues, future skyward rosters should be filtered to the 3rd quearter records, which might resolve duplicated students, but as is, point 2 won't break anything regardless</li></br>\n",
    "    <li>(E) Export: incoming you science docs have titles in the format \"YouScience_Cluster_Advising_{school}.xlsx\", exported updated files are expected to be titled like \"{schoo}_YouScience.xlsx\"</li></br>\n",
    "    <li>(F) Future exploration: while irrelavent to the current iteration of the algorith, the youscience file does include sex (binary) and ethnicity features. Long term, I initially thought to use these features in part to create metrics for efficacy of the sorting algorithm.</li></br>\n",
    "    <li></li></br>\n",
    "    <li></li></br>\n",
    "</ol>"
   ]
  },
  {
   "cell_type": "code",
   "execution_count": 1,
   "metadata": {},
   "outputs": [],
   "source": [
    "import pandas as pd\n",
    "import numpy as np\n",
    "import random\n",
    "import datetime\n",
    "import os\n",
    "\n",
    "# implementing random seed for control\n",
    "np.random.seed(42)\n",
    "\n",
    "# school names for consistency \n",
    "schools = ['Oakland Middle School',\n",
    "    'Siegel Middle School',\n",
    "    'Whitworth-Buchanan Middle School',\n",
    "    'Christiana Middle School',\n",
    "    'Smyrna Middle School',\n",
    "    'Stewarts Creek Middle School',\n",
    "    'Rockvale Middle School',\n",
    "    'Rocky Fork Middle School',\n",
    "    'Blackman Middle School',\n",
    "    # 'Thurman Francis Arts Academy',\n",
    "    'Rock Springs Middle School',\n",
    "    'LaVergne Middle School'\n",
    "]"
   ]
  },
  {
   "cell_type": "code",
   "execution_count": 2,
   "metadata": {},
   "outputs": [
    {
     "name": "stdout",
     "output_type": "stream",
     "text": [
      "Running for YS Career Fair 2022\n"
     ]
    }
   ],
   "source": [
    "# get grad_year\n",
    "# if fall at time of running calculation vs if spring semester when running\n",
    "try:\n",
    "    event_year = int(input('Enter 4-digit year of YouScience Event'))\n",
    "except ValueError:\n",
    "    event_year = 2022\n",
    "print(f\"Running for YS Career Fair {event_year}\")\n",
    "\n",
    "# establishing file folder path\n",
    "sky_p = f'../YouScienceData/Skyward/{event_year-1}-{event_year}/'\n",
    "ys_p = f'../YouScienceData/YouScience/{event_year}/'\n",
    "\n",
    "# checking if Updated_YouScience directory exists\n",
    "year_folder_path = f\"../YouScienceData/Updated_YouScience/{event_year}\"\n",
    "year_missing_path = f\"../YouScienceData/Missing_YS/{event_year}\"\n",
    "if not os.path.exists(year_folder_path):\n",
    "    os.makedirs(year_folder_path)\n",
    "if not os.path.exists(year_missing_path):\n",
    "    os.makedirs(year_missing_path)"
   ]
  },
  {
   "cell_type": "code",
   "execution_count": 4,
   "metadata": {},
   "outputs": [],
   "source": [
    "# checking for students with YS results stored elsewhere\n",
    "for school in schools:\n",
    "    school_sky_p = f'{sky_p}Skyward_{school}.xlsx'\n",
    "    skyward_df = pd.read_excel(school_sky_p)\n",
    "    skyward_df.drop_duplicates(\"Student\\'s School Email\", inplace=True)\n",
    "\n",
    "    school_ys_p = f'{ys_p}YouScience_cluster_advising_{school}.csv'\n",
    "    youscience_all_df = pd.read_csv(school_ys_p)\n",
    "    # filter to 8th graders only\n",
    "    youscience_df = youscience_all_df[youscience_all_df.grad_year == event_year + 4]\n",
    "\n",
    "    ys_emails = set(list(youscience_df.email))\n",
    "    sky_emails = set(list(skyward_df['Student\\'s School Email']))\n",
    "    diff_emails = ys_emails.difference(sky_emails)\n",
    "    list_emails = list(diff_emails)\n",
    "    \n",
    "    to_be_stored_df = youscience_df\n",
    "    for email in youscience_df.email.unique():\n",
    "        if email not in list_emails:\n",
    "            to_be_stored_df = to_be_stored_df[to_be_stored_df.email != email]\n",
    "\n",
    "    if school == schools[0]:\n",
    "        storage_df = to_be_stored_df\n",
    "    else:\n",
    "        storage_df = pd.concat([storage_df, to_be_stored_df])\n",
    "    \n",
    "    "
   ]
  },
  {
   "cell_type": "code",
   "execution_count": 5,
   "metadata": {},
   "outputs": [],
   "source": [
    "# compiling unsorted YS results\n",
    "misplaced_students = []\n",
    "\n",
    "for school in schools:\n",
    "    school_sky_p = f'{sky_p}Skyward_{school}.xlsx'\n",
    "    skyward_df = pd.read_excel(school_sky_p)\n",
    "    skyward_df.drop_duplicates(\"Student\\'s School Email\", inplace=True)\n",
    "    for email in skyward_df['Student\\'s School Email']:\n",
    "        if email in storage_df.email.unique():\n",
    "            misplaced_students.append(email)\n",
    "\n"
   ]
  },
  {
   "cell_type": "code",
   "execution_count": 6,
   "metadata": {},
   "outputs": [
    {
     "name": "stdout",
     "output_type": "stream",
     "text": [
      "Found 5 additional students for Oakland Middle School.\n",
      "Found 9 additional students for Siegel Middle School.\n",
      "Found 6 additional students for Whitworth-Buchanan Middle School.\n",
      "Found 2 additional students for Christiana Middle School.\n",
      "Found 6 additional students for Smyrna Middle School.\n",
      "Found 4 additional students for Stewarts Creek Middle School.\n",
      "Found 1 additional students for Rockvale Middle School.\n",
      "Found 3 additional students for Rocky Fork Middle School.\n",
      "Found 12 additional students for Blackman Middle School.\n",
      "Found 1 additional students for Rock Springs Middle School.\n"
     ]
    }
   ],
   "source": [
    "missing_YS_results = {}\n",
    "# adding back students with YS results sorted incorrectly\n",
    "missed_emails = set(misplaced_students)\n",
    "for school in schools:\n",
    "    school_sky_p = f'{sky_p}Skyward_{school}.xlsx'\n",
    "    skyward_df = pd.read_excel(school_sky_p)\n",
    "    skyward_df.drop_duplicates(\"Student\\'s School Email\", inplace=True)\n",
    "\n",
    "    school_ys_p = f'{ys_p}YouScience_cluster_advising_{school}.csv'\n",
    "    youscience_all_df = pd.read_csv(school_ys_p)\n",
    "    # filter to 8th graders only\n",
    "    youscience_df = youscience_all_df[youscience_all_df.grad_year == event_year + 4]\n",
    "\n",
    "    sky_emails = set(list(skyward_df['Student\\'s School Email']))\n",
    "    catch_em_all = missed_emails.intersection(sky_emails)\n",
    "    if len(catch_em_all) > 0:\n",
    "        print(f\"Found {len(catch_em_all)} additional students for {school}.\")\n",
    "        for email in list(catch_em_all):\n",
    "            X = storage_df.loc[storage_df.email == email]\n",
    "            youscience_df = pd.concat([youscience_df, X]).reset_index(drop=True)\n",
    "\n",
    "    # updated now\n",
    "    ys_emails = set(list(youscience_df.email))\n",
    "    missing_YS_results_email = list(sky_emails.difference(ys_emails))\n",
    "    missing_YS_results[school] = missing_YS_results_email\n",
    "\n",
    "    #export updated ys file\n",
    "    export_p = f\"../YouScienceData/Updated_YouScience/{event_year}/{school}_YouScience.csv\"\n",
    "    youscience_df.to_csv(export_p)"
   ]
  },
  {
   "cell_type": "code",
   "execution_count": 7,
   "metadata": {},
   "outputs": [],
   "source": [
    "# prepping and exporting student info with missing results\n",
    "for school in schools:\n",
    "    # read in school roster\n",
    "    school_sky_p = f'{sky_p}Skyward_{school}.xlsx'\n",
    "    skyward_df = pd.read_excel(school_sky_p)\n",
    "    skyward_df.drop_duplicates(\"Student\\'s School Email\", inplace=True)\n",
    "    # get students that don't have YS results\n",
    "    students_without = missing_YS_results[school]\n",
    "\n",
    "    # set table schematic\n",
    "    export_missing_results = {\n",
    "        'First':[],\n",
    "        'Last':[],\n",
    "        'Email':[],\n",
    "        'School':[],\n",
    "    }\n",
    "\n",
    "    # find and build table\n",
    "    for email in students_without:\n",
    "        row = skyward_df.loc[skyward_df[\"Student\\'s School Email\"] == email]\n",
    "        export_missing_results['First'].append(row[\"Student First Name\"].values[0])\n",
    "        export_missing_results['Last'].append(row[\"Student Last Name\"].values[0])\n",
    "        export_missing_results['Email'].append(row[\"Student\\'s School Email\"].values[0])\n",
    "        export_missing_results['School'].append(school)\n",
    "    \n",
    "    # export table\n",
    "    export_missing_p = f\"{year_missing_path}/{school}_missingYS.csv\"\n",
    "    pd.DataFrame(export_missing_results, columns=export_missing_results.keys()).to_csv(export_missing_p)\n",
    "    "
   ]
  },
  {
   "cell_type": "code",
   "execution_count": 11,
   "metadata": {},
   "outputs": [
    {
     "data": {
      "text/plain": [
       "(262.0, 49, 0.19)"
      ]
     },
     "execution_count": 11,
     "metadata": {},
     "output_type": "execute_result"
    }
   ],
   "source": [
    "len(storage_df)/3, len(misplaced_students), round(len(misplaced_students)/(len(storage_df)/3),2)"
   ]
  },
  {
   "cell_type": "code",
   "execution_count": 16,
   "metadata": {},
   "outputs": [
    {
     "name": "stdout",
     "output_type": "stream",
     "text": [
      "25 Oakland Middle School\n",
      "34 Siegel Middle School\n",
      "26 Whitworth-Buchanan Middle School\n",
      "17 Christiana Middle School\n",
      "57 Smyrna Middle School\n",
      "19 Stewarts Creek Middle School\n",
      "27 Rockvale Middle School\n",
      "20 Rocky Fork Middle School\n",
      "37 Blackman Middle School\n",
      "0 Thurman Francis Arts Academy\n",
      "25 Rock Springs Middle School\n",
      "21 LaVergne Middle School\n",
      "Total students recovered: 308\n"
     ]
    }
   ],
   "source": [
    "# comparing lengths of original data with more current data\n",
    "n = 0\n",
    "for school in schools:\n",
    "    up_og_path = f'../YouScienceData/Updated_YouScience/{school}_YouScience.csv'\n",
    "    up_new_path = f'../YouScienceData/Updated_YouScience/2022/{school}_YouScience.csv' \n",
    "    og_df = pd.read_csv(up_og_path)\n",
    "    new_df = pd.read_csv(up_new_path)\n",
    "    x = int((len(new_df) - len(og_df))/3)\n",
    "    print(x, school)\n",
    "    n += x \n",
    "\n",
    "print(f'Total students recovered: {n}')"
   ]
  }
 ],
 "metadata": {
  "kernelspec": {
   "display_name": "Python 3",
   "language": "python",
   "name": "python3"
  },
  "language_info": {
   "codemirror_mode": {
    "name": "ipython",
    "version": 3
   },
   "file_extension": ".py",
   "mimetype": "text/x-python",
   "name": "python",
   "nbconvert_exporter": "python",
   "pygments_lexer": "ipython3",
   "version": "3.9.12 (main, Mar 26 2022, 15:44:31) \n[Clang 13.1.6 (clang-1316.0.21.2)]"
  },
  "orig_nbformat": 4,
  "vscode": {
   "interpreter": {
    "hash": "b0fa6594d8f4cbf19f97940f81e996739fb7646882a419484c72d19e05852a7e"
   }
  }
 },
 "nbformat": 4,
 "nbformat_minor": 2
}
