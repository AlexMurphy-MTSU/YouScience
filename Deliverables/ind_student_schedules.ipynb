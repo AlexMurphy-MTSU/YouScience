{
 "cells": [
  {
   "cell_type": "code",
   "execution_count": 12,
   "metadata": {},
   "outputs": [],
   "source": [
    "import pandas as pd\n",
    "import numpy as np\n",
    "import random\n",
    "import os\n",
    "from docx import Document\n",
    "from docx.shared import Inches, Pt\n",
    "\n",
    "# implementing random seed for control\n",
    "sd = 42\n",
    "np.random.seed(sd)\n",
    "\n",
    "# school names for consistency \n",
    "schools = ['Oakland Middle School',\n",
    "    'Siegel Middle School',\n",
    "    'Whitworth-Buchanan Middle School',\n",
    "    'Christiana Middle School',\n",
    "    'Smyrna Middle School',\n",
    "    'Stewarts Creek Middle School',\n",
    "    'Rockvale Middle School',\n",
    "    'Rocky Fork Middle School',\n",
    "    'Blackman Middle School',\n",
    "    'Thurman Francis Arts Academy',\n",
    "    'Rock Springs Middle School',\n",
    "    'LaVergne Middle School'\n",
    "]\n",
    "\n",
    "# preparing directories\n",
    "for school in schools:\n",
    "    path = f'../YouScienceData/Schedules/{school}'\n",
    "    schedule_path = f'../YouScienceData/Schedules/{school}/Student_Schedules'\n",
    "    if not os.path.exists(path):\n",
    "        os.makedirs(path)\n",
    "    if not os.path.exists(schedule_path):\n",
    "        os.makedirs(schedule_path)\n"
   ]
  },
  {
   "cell_type": "code",
   "execution_count": null,
   "metadata": {},
   "outputs": [],
   "source": [
    "\"\"\" \n",
    "Creates draft of per-student .docx schedule file, Round 1: Do for one school for proof of concept\n",
    "FIXED in alpha1.ipynb:\n",
    "    (1) Read in {school}_all_students.csv file\n",
    "    (2) Read in Skyward_{school}.xlsx file\n",
    "    (3) Create a 1st period/Homeroom feature\n",
    "    (4) AZ by student name (should be default), then AZ by homeroom teacher (ease of school admin)\n",
    "    (5) Begin writing draft schedule template\n",
    "\"\"\""
   ]
  },
  {
   "cell_type": "code",
   "execution_count": 16,
   "metadata": {},
   "outputs": [
    {
     "name": "stdout",
     "output_type": "stream",
     "text": [
      "Oakland Middle School scheduls created: 420.\n"
     ]
    }
   ],
   "source": [
    "# Date of YouScience Career Fair\n",
    "date = '8 February 2023'\n",
    "\n",
    "# Needed featuers: (1) student name, (2) Homeroom Teacher name, (3a-3d) Block Pathway title, \n",
    "# (4a-4d) Pathway Instructor, (5a-5d) Pathway room #, (6a-6d) Pathway zoom link\n",
    "\n",
    "def build_student_schedules(school_df, planning_df):\n",
    "    # iterate through students\n",
    "    for i in range(len(school_df)):\n",
    "        student_case = school_df.iloc[i]\n",
    "        # get (1) student and (2) homeroom teacher names\n",
    "        student_name, HR_teacher = student_case['name'], student_case['CY Teacher']\n",
    "\n",
    "        # initialize schedule document & header format\n",
    "        schedule_doc = Document()\n",
    "        section = schedule_doc.sections[0]\n",
    "        header = section.header\n",
    "        head_para = header.paragraphs[0]\n",
    "        head_para.text = f\"{school}\\tRutherford County School's Career Pathway Fair\\t{date}\"\n",
    "        # text_run = head_para.add_run()\n",
    "        # text_run.text = f'{school}\\tYouScience Career Fair\\t{date}'\n",
    "        # text_run.style = \"Heading 2 Char\"\n",
    "\n",
    "        # logo_run = head_para.add_run()\n",
    "        # logo_run.add_picture(\"../../../../Desktop/QR_Career_Fair_2023.png\", width=Inches(2))\n",
    "\n",
    "        schedule_doc.add_heading(f'Name: {student_name}', level = 1)\n",
    "        \n",
    "        # schedule_doc.add_picture(\"../../../../Desktop/QR_Career_Fair_2023.png\", width=Inches(1.5))\n",
    "        schedule_doc.add_paragraph(f'Homeroom: {HR_teacher}')\n",
    "\n",
    "        # build document body\n",
    "        for block in ['B1','B2','B3','B4']: \n",
    "            # get pathway's info\n",
    "            # (3a)\n",
    "            pathway = student_case[block]\n",
    "            POS_info = planning_df.loc[planning_df.POS == pathway]\n",
    "            # (4a), (5a), (6a)\n",
    "            POS_instructors = ' & '.join([POS_info['MS Teacher'].values[0], POS_info['HS Teacher'].values[0]])\n",
    "            POS_room_no = POS_info['MS Room #'].values[0]\n",
    "            #POS_zoom_link = POS_info['Zoom Link'].values[0]\n",
    "\n",
    "            # structure document\n",
    "            schedule_doc.add_heading(f'Program of Study {block[1]}: {pathway}', level=3)\n",
    "            schedule_doc.add_paragraph(\n",
    "                f'Room #: {POS_room_no}, Sponsor/Instructors: {POS_instructors}'#\\nZoom: {POS_zoom_link}'\n",
    "            )\n",
    "            # adding prompts per session\n",
    "            prompts = [\"What are 3 careers this program would help you explore?\", \n",
    "                \"What are some activities that you do in this Program of Study?\",\n",
    "                \"Is this a program that you could see yourself enjoying?\",\n",
    "            ]\n",
    "            # creating and populating table format for white space responses\n",
    "            table = schedule_doc.add_table(rows=2, cols=3)\n",
    "            row = table.rows[0].cells\n",
    "            row[0].text = prompts[0]\n",
    "            row[1].text = prompts[1]\n",
    "            row[2].text = prompts[2]\n",
    "            # for prompt in prompts:\n",
    "            #     row = table.add_row().cells\n",
    "            #     row[1].text = prompt\n",
    "            #     row[1].width = Inches(2.5)\n",
    "            #     row[2].width = Inches(2.0)\n",
    "\n",
    "        name_for_path = '_'.join(student_name.split())\n",
    "        if name_for_path == 'JORDIN/ALBUS_MCCLANAHAN':\n",
    "            name_for_path = 'JORDIN_MCCLANAHAN'\n",
    "        doc_path = f'../YouScienceData/Schedules/{school}/Student_Schedules/{name_for_path}.docx'\n",
    "        schedule_doc.save(doc_path)\n",
    "\n",
    "    return \n",
    "\n",
    "def Print_Schedules(school=None, date=date):\n",
    "\n",
    "    if school == None:\n",
    "        return 0\n",
    "\n",
    "    # load in appropriate dfs\n",
    "    school_path = f'../YouScienceData/Schedules/{school}/{school}_all_students.csv'\n",
    "    school_df = pd.read_csv(school_path)\n",
    "    school_df.drop('Unnamed: 0', axis=1, inplace=True)\n",
    "    \n",
    "    if school == 'Whitworth-Buchanan Middle School':\n",
    "        planning_df = pd.read_excel('planning.xlsx', sheet_name='Whitworth-Buchanan Middle Schoo')\n",
    "    else:\n",
    "        planning_df = pd.read_excel('planning.xlsx', sheet_name=school)\n",
    "\n",
    "    # execute schedule building\n",
    "    build_student_schedules(school_df=school_df, planning_df=planning_df)\n",
    "    print(f'{school} scheduls created: {len(school_df)}.')\n",
    "    return \n",
    "\n",
    "for school in schools:\n",
    "    Print_Schedules(school=school, date=date)\n",
    "    break"
   ]
  },
  {
   "cell_type": "markdown",
   "metadata": {},
   "source": [
    "## Troubleshooting"
   ]
  },
  {
   "cell_type": "code",
   "execution_count": null,
   "metadata": {},
   "outputs": [],
   "source": [
    "p = f'../YouScienceData/Schedules/{school}/{school}_all_students.csv'\n",
    "df = pd.read_csv(p)\n",
    "df.drop('Unnamed: 0', axis=1, inplace=True)\n",
    "planning_df = pd.read_excel('planning.xlsx', sheet_name=school)\n",
    "df.head()"
   ]
  },
  {
   "cell_type": "code",
   "execution_count": null,
   "metadata": {},
   "outputs": [],
   "source": [
    "case = df.iloc[4]\n",
    "pathway = case.B2\n",
    "POS_info = planning_df.loc[planning_df.POS == pathway]\n",
    "POS_instructors = ' & '.join([POS_info['MS Teacher'].values[0], POS_info['HS Teacher'].values[0]])"
   ]
  },
  {
   "cell_type": "code",
   "execution_count": null,
   "metadata": {},
   "outputs": [],
   "source": [
    "planning_df"
   ]
  },
  {
   "cell_type": "code",
   "execution_count": null,
   "metadata": {},
   "outputs": [],
   "source": [
    "# troubleshooting... who put a '/' in a student's name?! \n",
    "school = 'Blackman Middle School'\n",
    "p = f'../YouScienceData/Schedules/{school}/{school}_all_students.csv'\n",
    "df = pd.read_csv(p)\n",
    "df.drop('Unnamed: 0', axis=1, inplace=True)\n",
    "\n",
    "df.loc[df.name == 'JORDIN/ALBUS MCCLANAHAN'] # Comes from Original YouScience doc... Not found anywhere else. wtf?! "
   ]
  },
  {
   "cell_type": "code",
   "execution_count": null,
   "metadata": {},
   "outputs": [],
   "source": [
    "# test case student\n",
    "test_case = school_all_df.iloc[5]\n",
    "# Needed featuers: (1) student name, (2) Homeroom Teacher name, (3a-3d) Block Pathway title, \n",
    "# (4a-4d) Pathway Instructor, (5a-5d) Pathway room #, (6a-6d) Pathway zoom link\n",
    "# (1), (2)\n",
    "student_name, HR_teacher = test_case['name'], test_case['CY Teacher']\n",
    "# (3a) \n",
    "pathway = test_case.B1\n",
    "POS_info = planning_df.loc[planning_df.POS == pathway]\n",
    "# 4a, 5a, 6a\n",
    "POS_instructors = ' & '.join([POS_info['MS Teacher'].values[0], POS_info['HS Teacher'].values[0]])\n",
    "POS_room_no = POS_info['MS Room #'].values[0]\n",
    "POS_zoom_link = POS_info['Zoom Link'].values[0]\n",
    "\n",
    "test_document = Document()\n",
    "test_document.add_heading(f'Name: {student_name}', level = 1)\n",
    "test_document.add_paragraph(f'Homeroom: {HR_teacher}')\n",
    "test_document.add_heading(f'Pathway 1: {pathway}', level = 3)\n",
    "test_document.add_paragraph(\n",
    "    f'Sponsor/Instructors: {POS_instructors}\\nRoom #: {POS_room_no}\\nZoom: {POS_zoom_link}'\n",
    ")\n",
    "\n",
    "test_document.save('../test_schedule.docx')"
   ]
  },
  {
   "cell_type": "code",
   "execution_count": null,
   "metadata": {},
   "outputs": [],
   "source": [
    "# Test version 2: adding for loop to get each pathway paragraph/heading\n",
    "date = '8 February 2023'\n",
    "test_case2 = school_all_df.iloc[10]\n",
    "# (1), (2)\n",
    "student_name, HR_teacher = test_case2['name'], test_case2['CY Teacher']\n",
    "# Initializing document\n",
    "test_document2 = Document()\n",
    "section = test_document2.sections[0]\n",
    "header = section.header\n",
    "head_para = header.paragraphs[0]\n",
    "head_para.text = f'{school}\\tYouScience Career Fair\\t{date}'\n",
    "test_document2.add_heading(f'Name: {student_name}', level = 1)\n",
    "test_document2.add_paragraph(f'Homeroom: {HR_teacher}')\n",
    "\n",
    "for block in ['B1','B2','B3','B4']: \n",
    "    # get pathway's info\n",
    "    # 3a\n",
    "    pathway = test_case2[block]\n",
    "    POS_info = planning_df.loc[planning_df.POS == pathway]\n",
    "    # 4a, 5a, 6a\n",
    "    POS_instructors = ' & '.join([POS_info['MS Teacher'].values[0], POS_info['HS Teacher'].values[0]])\n",
    "    POS_room_no = POS_info['MS Room #'].values[0]\n",
    "    POS_zoom_link = POS_info['Zoom Link'].values[0]\n",
    "\n",
    "    # structure document\n",
    "    test_document2.add_heading(f'Pathway {block[1]}: {pathway}', level=3)\n",
    "    test_document2.add_paragraph(\n",
    "        f'Sponsor/Instructors: {POS_instructors}\\nRoom #: {POS_room_no}\\nZoom: {POS_zoom_link}'\n",
    "    )\n",
    "\n",
    "test_document2.save('../test_schedule3.docx')"
   ]
  },
  {
   "cell_type": "code",
   "execution_count": null,
   "metadata": {},
   "outputs": [],
   "source": [
    "Print_Schedules(school=school, date=date)"
   ]
  },
  {
   "cell_type": "markdown",
   "metadata": {},
   "source": [
    "### Editing, Checking POS/YS Clusters were translated correctly"
   ]
  },
  {
   "cell_type": "code",
   "execution_count": null,
   "metadata": {},
   "outputs": [],
   "source": [
    "# Checking pathways are established correctly\n",
    "planning_pos_list = list(planning_df.POS)\n",
    "df_pos_list = list(school_all_df.B1.unique())\n",
    "for pos in df_pos_list:\n",
    "    if pos not in planning_pos_list:\n",
    "        check = str(pos[:5])\n",
    "        print(pos)\n",
    "        for option in planning_pos_list:\n",
    "            if check in option:\n",
    "                if option in df_pos_list:\n",
    "                    swap = 'Already in use.'\n",
    "                else:\n",
    "                    swap = 'Can switch!'\n",
    "                print(school, option, swap)"
   ]
  }
 ],
 "metadata": {
  "kernelspec": {
   "display_name": "Python 3.9.12 64-bit",
   "language": "python",
   "name": "python3"
  },
  "language_info": {
   "codemirror_mode": {
    "name": "ipython",
    "version": 3
   },
   "file_extension": ".py",
   "mimetype": "text/x-python",
   "name": "python",
   "nbconvert_exporter": "python",
   "pygments_lexer": "ipython3",
   "version": "3.9.12"
  },
  "orig_nbformat": 4,
  "vscode": {
   "interpreter": {
    "hash": "b0fa6594d8f4cbf19f97940f81e996739fb7646882a419484c72d19e05852a7e"
   }
  }
 },
 "nbformat": 4,
 "nbformat_minor": 2
}
