{
 "cells": [
  {
   "cell_type": "markdown",
   "metadata": {},
   "source": []
  },
  {
   "cell_type": "code",
   "execution_count": null,
   "metadata": {},
   "outputs": [],
   "source": [
    "import pandas as pd\n",
    "import numpy as np"
   ]
  },
  {
   "cell_type": "code",
   "execution_count": null,
   "metadata": {},
   "outputs": [],
   "source": [
    "X = pd.read_csv('../Heatmaps/RCS_compiled.csv')\n",
    "print(len(X))\n",
    "X.head()"
   ]
  },
  {
   "cell_type": "code",
   "execution_count": null,
   "metadata": {},
   "outputs": [],
   "source": [
    "len(X[X.fit_rank == 1])"
   ]
  },
  {
   "cell_type": "code",
   "execution_count": null,
   "metadata": {},
   "outputs": [],
   "source": []
  },
  {
   "cell_type": "code",
   "execution_count": null,
   "metadata": {},
   "outputs": [],
   "source": [
    "test = X[X.aptitude_fit == 'Hospitality & Tourism']\n",
    "# test = test[test.fit_rank == 1]\n",
    "test"
   ]
  },
  {
   "cell_type": "code",
   "execution_count": null,
   "metadata": {},
   "outputs": [],
   "source": [
    "def get_breakdown_by_rank(df, rank=1):\n",
    "    # compiling frequency of interest/aptitude pairs\n",
    "    \n",
    "    fits = list(set(df.aptitude_fit).union(df.interest_fit))\n",
    "    df = df[df.fit_rank == rank]\n",
    "    \n",
    "    breakdown_df = None\n",
    "    for fit in fits:\n",
    "        Y = df.loc[X.aptitude_fit == fit].interest_fit.value_counts()\n",
    "        Y = pd.DataFrame(Y)\n",
    "        Y.rename(columns={'interest_fit':'Apt: ' + fit},inplace=True)\n",
    "\n",
    "        if breakdown_df is None: \n",
    "            breakdown_df = Y\n",
    "        else:\n",
    "            breakdown_df = pd.concat([breakdown_df,Y], axis=1)\n",
    "\n",
    "    breakdown_df.replace(np.nan,0,inplace=True)\n",
    "    \n",
    "    return breakdown_df"
   ]
  },
  {
   "cell_type": "code",
   "execution_count": null,
   "metadata": {},
   "outputs": [],
   "source": []
  },
  {
   "cell_type": "code",
   "execution_count": null,
   "metadata": {},
   "outputs": [],
   "source": [
    "r1_df = get_breakdown_by_rank(X)\n",
    "util_dict = {}\n",
    "for col in list(r1_df.columns):\n",
    "    total = int(r1_df[col].sum())\n",
    "    try:\n",
    "        cat = r1_df[col].loc[col.split(': ')[1]]\n",
    "        print(col, '- Total: ', total, '; %Interested: ', \"{:.2%}\".format(float(cat)/total))\n",
    "    except KeyError:\n",
    "        print(f'~~~At fit_rank 1, none were labeled with {col}')"
   ]
  },
  {
   "cell_type": "code",
   "execution_count": null,
   "metadata": {},
   "outputs": [],
   "source": [
    "list(r1_df.columns)\n"
   ]
  },
  {
   "cell_type": "code",
   "execution_count": null,
   "metadata": {},
   "outputs": [],
   "source": [
    "# checking no students were dropped \n",
    "sum = 0\n",
    "for col in list(r1_df.columns):\n",
    "    sum += r1_df[col].sum()\n",
    "sum"
   ]
  },
  {
   "cell_type": "code",
   "execution_count": null,
   "metadata": {},
   "outputs": [],
   "source": [
    "# how many students across RCS had interest/aptitude align with fit_rank 1? \n",
    "perfect_fit = 0\n",
    "for col in list(r1_df.columns):\n",
    "    try:\n",
    "        perfect_fit += int(r1_df[col].loc[col.split(': ')[1]])   \n",
    "    except KeyError:\n",
    "        pass\n",
    "\n",
    "print(perfect_fit, 9309-perfect_fit, \"{:.2%}\".format(perfect_fit/7960))\n",
    "\n",
    "# This does not mean that those 1349 could get into their appropriate POS placements"
   ]
  },
  {
   "cell_type": "code",
   "execution_count": null,
   "metadata": {},
   "outputs": [],
   "source": [
    "list(set(X.organization))"
   ]
  },
  {
   "cell_type": "code",
   "execution_count": null,
   "metadata": {},
   "outputs": [],
   "source": [
    "Z = X[X.organization == 'LaVergne Middle School']\n",
    "# compiling frequency of interest/aptitude pairs\n",
    "fits = list(set(X.aptitude_fit).union(X.interest_fit))\n",
    "breakdown_df = None\n",
    "for fit in fits:\n",
    "    Y = Z.loc[Z.aptitude_fit == fit].interest_fit.value_counts()\n",
    "    Y = pd.DataFrame(Y)\n",
    "    Y.rename(columns={'interest_fit':'Apt: ' + fit},inplace=True)\n",
    "\n",
    "    if breakdown_df is None: \n",
    "        breakdown_df = Y\n",
    "    else:\n",
    "        breakdown_df = pd.concat([breakdown_df,Y], axis=1)\n",
    "\n",
    "breakdown_df.replace(np.nan,0,inplace=True)\n",
    "\n",
    "breakdown_df"
   ]
  },
  {
   "cell_type": "code",
   "execution_count": null,
   "metadata": {},
   "outputs": [],
   "source": [
    "int_total, apt_total = {}, {}\n",
    "print('Interest | Aptitude | Category')\n",
    "for fit in fits:\n",
    "    int_total[fit] = breakdown_df.loc[fit].sum()\n",
    "    apt_total['Apt: ' + fit] = breakdown_df['Apt: ' + fit].sum()\n",
    "    \n",
    "    print(int_total[fit], apt_total['Apt: ' + fit], fit)"
   ]
  }
 ],
 "metadata": {
  "interpreter": {
   "hash": "b0fa6594d8f4cbf19f97940f81e996739fb7646882a419484c72d19e05852a7e"
  },
  "kernelspec": {
   "display_name": "Python 3.9.12 64-bit",
   "language": "python",
   "name": "python3"
  },
  "language_info": {
   "codemirror_mode": {
    "name": "ipython",
    "version": 3
   },
   "file_extension": ".py",
   "mimetype": "text/x-python",
   "name": "python",
   "nbconvert_exporter": "python",
   "pygments_lexer": "ipython3",
   "version": "3.9.12"
  },
  "orig_nbformat": 4
 },
 "nbformat": 4,
 "nbformat_minor": 2
}
