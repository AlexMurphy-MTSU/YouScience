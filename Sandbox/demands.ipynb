{
 "cells": [
  {
   "cell_type": "code",
   "execution_count": 1,
   "metadata": {},
   "outputs": [],
   "source": [
    "import pandas as pd\n",
    "import numpy as np\n",
    "import seaborn as sns\n",
    "import matplotlib.pyplot as plt\n",
    "import os"
   ]
  },
  {
   "cell_type": "code",
   "execution_count": null,
   "metadata": {},
   "outputs": [],
   "source": [
    "\"\"\"\n",
    "Purpose: \n",
    "- work towards a script that can automate an annotated heatmap for each school's aptitude-interest frequency\n",
    "- - - Need to create an object that has all of the aptitude and interest fits from YouScience to ensure compatability\n",
    "<> create an object that contains the POS offerings by school\n",
    "\n",
    "Discovery:\n",
    "- Need to clean POS labels: there are typos and inconsistent labels\n",
    "- Need to clarify matching criteria for how students get placed into a POS\n",
    "\"\"\""
   ]
  },
  {
   "cell_type": "code",
   "execution_count": 7,
   "metadata": {},
   "outputs": [],
   "source": [
    "# compiling POS offerings by school\n",
    "# two objects: (1) offerings by school, (2) overall offerings across RCS\n",
    "test = pd.read_excel('../YouScienceData/Career Fairs Planning.xlsx', sheet_name=None)\n",
    "schools = list(test.keys())"
   ]
  },
  {
   "cell_type": "code",
   "execution_count": 56,
   "metadata": {},
   "outputs": [],
   "source": [
    "RCS_POS_offerings = set()\n",
    "RCS_POS_per_school = {}\n",
    "for school in schools:\n",
    "    # test[school] is a pandas df object\n",
    "    df = test[school]\n",
    "    l = []\n",
    "    # add the POS offerings to a list\n",
    "    for pos in df.POS.dropna():\n",
    "        # ignoring the headers for the rest of the spreadsheet\n",
    "        if (\"High School\" not in pos) and (\"Notes\" not in pos):\n",
    "            l.append(pos)\n",
    "        else:\n",
    "            break\n",
    "    RCS_POS_per_school[school] = l\n",
    "    RCS_POS_offerings = RCS_POS_offerings.union(set(l))\n",
    "    "
   ]
  },
  {
   "cell_type": "code",
   "execution_count": 57,
   "metadata": {},
   "outputs": [
    {
     "data": {
      "text/plain": [
       "52"
      ]
     },
     "execution_count": 57,
     "metadata": {},
     "output_type": "execute_result"
    }
   ],
   "source": [
    "len(RCS_POS_offerings)"
   ]
  },
  {
   "cell_type": "code",
   "execution_count": 54,
   "metadata": {},
   "outputs": [
    {
     "name": "stdout",
     "output_type": "stream",
     "text": [
      "Advanced STEM Applications\n",
      "STEM: Engineering\n",
      "STEM Technology\n",
      "STEM\n",
      "BioSTEM\n",
      "STEM Engineering\n"
     ]
    }
   ],
   "source": [
    "# 'cul'; 'STEM'; 'Agri'\n",
    "for pos in list(RCS_POS_offerings):\n",
    "    if 'STEM' in pos:\n",
    "        print(pos)"
   ]
  },
  {
   "cell_type": "code",
   "execution_count": 121,
   "metadata": {},
   "outputs": [],
   "source": [
    "def YouScienceDemand(YS_data_folder_path):\n",
    "    # function that reads and preps csv data, then makes a heatmap and saves it folder \"Heatmaps\"\n",
    "    def MakeHeatmap(filename):\n",
    "        df = pd.read_csv(YS_data_folder_path + filename)\n",
    "\n",
    "\n",
    "    # Create a combined RCS df with all the schools rankings\n",
    "    # The \"School\" feature details the school the student attends\n",
    "    schools = []\n",
    "    RCS_ranked_df = None\n",
    "    for filename in os.listdir(YS_data_folder_path):\n",
    "        if '.csv' in filename:\n",
    "            # extracting school name to key the data by school \n",
    "            l = filename.split('_')\n",
    "            school = l[-1].split('.')\n",
    "            schools.append(school[0])\n",
    "            if RCS_ranked_df is None:\n",
    "                RCS_ranked_df = pd.read_csv(YS_data_folder_path + filename)\n",
    "                RCS_ranked_df['School'] = school[0]\n",
    "            else:\n",
    "                df = pd.read_csv(YS_data_folder_path + filename)\n",
    "                df['School'] = school[0]\n",
    "                RCS_ranked_df = pd.concat([RCS_ranked_df,df], ignore_index=True)\n",
    "    \n",
    "    \n",
    "    #MakeHeatmap(filename)\n",
    "    return RCS_ranked_df\n",
    "    "
   ]
  },
  {
   "cell_type": "code",
   "execution_count": 122,
   "metadata": {},
   "outputs": [],
   "source": [
    "df = YouScienceDemand('../YouScienceData/')\n",
    "len(df)"
   ]
  },
  {
   "cell_type": "code",
   "execution_count": 125,
   "metadata": {},
   "outputs": [
    {
     "data": {
      "text/plain": [
       "<AxesSubplot:>"
      ]
     },
     "execution_count": 125,
     "metadata": {},
     "output_type": "execute_result"
    },
    {
     "data": {
      "image/png": "[encoded data removed]",
      "text/plain": [
       "<Figure size 432x288 with 1 Axes>"
      ]
     },
     "metadata": {
      "needs_background": "light"
     },
     "output_type": "display_data"
    }
   ],
   "source": [
    "# determine the frequency of the aptitudes/interests and most commonly paired with\n",
    "# can we create a labelling mechanism from the pairs? \n",
    "df.aptitude_fit.value_counts().plot.bar()"
   ]
  }
 ],
 "metadata": {
  "interpreter": {
   "hash": "b0fa6594d8f4cbf19f97940f81e996739fb7646882a419484c72d19e05852a7e"
  },
  "kernelspec": {
   "display_name": "Python 3.9.12 64-bit",
   "language": "python",
   "name": "python3"
  },
  "language_info": {
   "codemirror_mode": {
    "name": "ipython",
    "version": 3
   },
   "file_extension": ".py",
   "mimetype": "text/x-python",
   "name": "python",
   "nbconvert_exporter": "python",
   "pygments_lexer": "ipython3",
   "version": "3.9.12"
  },
  "orig_nbformat": 4
 },
 "nbformat": 4,
 "nbformat_minor": 2
}
