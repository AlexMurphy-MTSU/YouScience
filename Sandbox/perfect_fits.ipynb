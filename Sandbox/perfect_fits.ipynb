{
 "cells": [
  {
   "cell_type": "code",
   "execution_count": 1,
   "metadata": {},
   "outputs": [],
   "source": [
    "# examine the students that have perfect fit at fit_rank 1\n",
    "\n",
    "import pandas as pd\n",
    "import numpy as np"
   ]
  },
  {
   "cell_type": "code",
   "execution_count": 2,
   "metadata": {},
   "outputs": [
    {
     "name": "stdout",
     "output_type": "stream",
     "text": [
      "27927\n"
     ]
    }
   ],
   "source": [
    "X = pd.read_csv('../Heatmaps/RCS_compiled.csv')\n",
    "X.drop(\"Unnamed: 0\", axis=1,inplace=True)\n",
    "print(len(X))\n",
    "r1_df, r2_df, r3_df = X[X.fit_rank == 1], X[X.fit_rank == 2], X[X.fit_rank == 3]"
   ]
  },
  {
   "cell_type": "code",
   "execution_count": 3,
   "metadata": {},
   "outputs": [],
   "source": [
    "p1_df = r1_df[r1_df.aptitude_fit == r1_df.interest_fit]\n",
    "p2_df = r2_df[r2_df.aptitude_fit == r2_df.interest_fit]\n",
    "p3_df = r3_df[r3_df.aptitude_fit == r3_df.interest_fit]\n",
    "l1, l2, l3 = p1_df.id, p2_df.id, p3_df.id"
   ]
  },
  {
   "cell_type": "code",
   "execution_count": 4,
   "metadata": {},
   "outputs": [
    {
     "name": "stdout",
     "output_type": "stream",
     "text": [
      "23880\n",
      "22455\n",
      "20211\n"
     ]
    }
   ],
   "source": [
    "for id in l1:\n",
    "    X = X[X.id != id]\n",
    "print(len(X))\n",
    "for id in l2:\n",
    "    X = X[X.id != id]\n",
    "print(len(X))\n",
    "for id in l3:\n",
    "    X = X[X.id != id]\n",
    "print(len(X))"
   ]
  },
  {
   "cell_type": "code",
   "execution_count": 8,
   "metadata": {},
   "outputs": [
    {
     "name": "stdout",
     "output_type": "stream",
     "text": [
      "Students that have a perfect matching at any fit_rank: 2572 of 9309\n"
     ]
    }
   ],
   "source": [
    "print(f'Students that have a perfect matching at any fit_rank: {int((27927-20211)/3)} of {int(27927/3)}')"
   ]
  },
  {
   "cell_type": "code",
   "execution_count": 14,
   "metadata": {},
   "outputs": [
    {
     "data": {
      "text/html": [
       "<div>\n",
       "<style scoped>\n",
       "    .dataframe tbody tr th:only-of-type {\n",
       "        vertical-align: middle;\n",
       "    }\n",
       "\n",
       "    .dataframe tbody tr th {\n",
       "        vertical-align: top;\n",
       "    }\n",
       "\n",
       "    .dataframe thead th {\n",
       "        text-align: right;\n",
       "    }\n",
       "</style>\n",
       "<table border=\"1\" class=\"dataframe\">\n",
       "  <thead>\n",
       "    <tr style=\"text-align: right;\">\n",
       "      <th></th>\n",
       "      <th>id</th>\n",
       "      <th>organization</th>\n",
       "      <th>last_name</th>\n",
       "      <th>first_name</th>\n",
       "      <th>email</th>\n",
       "      <th>phone</th>\n",
       "      <th>gender</th>\n",
       "      <th>ethnicity</th>\n",
       "      <th>grad_year</th>\n",
       "      <th>aptitude_fit</th>\n",
       "      <th>interest_fit</th>\n",
       "      <th>fit_rank</th>\n",
       "    </tr>\n",
       "  </thead>\n",
       "  <tbody>\n",
       "    <tr>\n",
       "      <th>0</th>\n",
       "      <td>409512</td>\n",
       "      <td>Rocky Fork Middle School</td>\n",
       "      <td>Cardoso</td>\n",
       "      <td>Sofia</td>\n",
       "      <td>scardosoperez8225@student.rcschools.net-moved-...</td>\n",
       "      <td>615-900-7342</td>\n",
       "      <td>f</td>\n",
       "      <td>other</td>\n",
       "      <td>2023.0</td>\n",
       "      <td>Agriculture &amp; Natural Resources</td>\n",
       "      <td>Human Services</td>\n",
       "      <td>3</td>\n",
       "    </tr>\n",
       "    <tr>\n",
       "      <th>1</th>\n",
       "      <td>409512</td>\n",
       "      <td>Rocky Fork Middle School</td>\n",
       "      <td>Cardoso</td>\n",
       "      <td>Sofia</td>\n",
       "      <td>scardosoperez8225@student.rcschools.net-moved-...</td>\n",
       "      <td>615-900-7342</td>\n",
       "      <td>f</td>\n",
       "      <td>other</td>\n",
       "      <td>2023.0</td>\n",
       "      <td>Finance</td>\n",
       "      <td>Arts &amp; Media</td>\n",
       "      <td>2</td>\n",
       "    </tr>\n",
       "    <tr>\n",
       "      <th>2</th>\n",
       "      <td>409512</td>\n",
       "      <td>Rocky Fork Middle School</td>\n",
       "      <td>Cardoso</td>\n",
       "      <td>Sofia</td>\n",
       "      <td>scardosoperez8225@student.rcschools.net-moved-...</td>\n",
       "      <td>615-900-7342</td>\n",
       "      <td>f</td>\n",
       "      <td>other</td>\n",
       "      <td>2023.0</td>\n",
       "      <td>Engineering</td>\n",
       "      <td>Teaching</td>\n",
       "      <td>1</td>\n",
       "    </tr>\n",
       "  </tbody>\n",
       "</table>\n",
       "</div>"
      ],
      "text/plain": [
       "       id              organization last_name first_name  \\\n",
       "0  409512  Rocky Fork Middle School   Cardoso     Sofia    \n",
       "1  409512  Rocky Fork Middle School   Cardoso     Sofia    \n",
       "2  409512  Rocky Fork Middle School   Cardoso     Sofia    \n",
       "\n",
       "                                               email         phone gender  \\\n",
       "0  scardosoperez8225@student.rcschools.net-moved-...  615-900-7342      f   \n",
       "1  scardosoperez8225@student.rcschools.net-moved-...  615-900-7342      f   \n",
       "2  scardosoperez8225@student.rcschools.net-moved-...  615-900-7342      f   \n",
       "\n",
       "  ethnicity  grad_year                     aptitude_fit    interest_fit  \\\n",
       "0     other     2023.0  Agriculture & Natural Resources  Human Services   \n",
       "1     other     2023.0                          Finance    Arts & Media   \n",
       "2     other     2023.0                      Engineering        Teaching   \n",
       "\n",
       "   fit_rank  \n",
       "0         3  \n",
       "1         2  \n",
       "2         1  "
      ]
     },
     "execution_count": 14,
     "metadata": {},
     "output_type": "execute_result"
    }
   ],
   "source": [
    "X.loc[X.id == 409512]"
   ]
  }
 ],
 "metadata": {
  "interpreter": {
   "hash": "b0fa6594d8f4cbf19f97940f81e996739fb7646882a419484c72d19e05852a7e"
  },
  "kernelspec": {
   "display_name": "Python 3.9.12 64-bit",
   "language": "python",
   "name": "python3"
  },
  "language_info": {
   "codemirror_mode": {
    "name": "ipython",
    "version": 3
   },
   "file_extension": ".py",
   "mimetype": "text/x-python",
   "name": "python",
   "nbconvert_exporter": "python",
   "pygments_lexer": "ipython3",
   "version": "3.9.12"
  },
  "orig_nbformat": 4
 },
 "nbformat": 4,
 "nbformat_minor": 2
}
