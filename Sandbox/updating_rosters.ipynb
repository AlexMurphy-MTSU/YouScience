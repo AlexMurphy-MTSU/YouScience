{
 "cells": [
  {
   "cell_type": "code",
   "execution_count": 1,
   "metadata": {},
   "outputs": [],
   "source": [
    "import pandas as pd\n",
    "import numpy as np"
   ]
  },
  {
   "cell_type": "code",
   "execution_count": null,
   "metadata": {},
   "outputs": [],
   "source": [
    "\"\"\"\n",
    "Iterate through the schools to determine if the gap between YouScience Results and Skyward Rosters\n",
    "are as drastic as in Blackman (1006 YS vs. 612 Skyward)\n",
    "\"\"\""
   ]
  },
  {
   "cell_type": "code",
   "execution_count": 2,
   "metadata": {},
   "outputs": [],
   "source": [
    "# read in dataframes\n",
    "# compare rosters\n",
    "# print the gap as well as the actionable number of students\n",
    "# return an updated dataframe\n",
    "def compare_rosters(skyward_path = None, youscience_path = None, print_len=0):\n",
    "    sky_df = pd.read_excel(skyward_path)\n",
    "    ys_df = pd.read_csv(youscience_path)\n",
    "    # pruned_df will be a tidied YS df that has only 8th graders from that school\n",
    "    pruned_df = pd.read_csv(youscience_path)\n",
    "\n",
    "\n",
    "    if print_len != 0:\n",
    "        print(f'Comparing {school} rosters.\\nYS length: {int(len(ys_df)/3)}\\nSkyward length: {len(sky_df)}')\n",
    "    # need to know 8th graders with missing YS results\n",
    "    not_in_ys = []\n",
    "    # EDIT: we know there are duplicated students based on prior teacher changes\n",
    "    sky_df.drop_duplicates('Student\\'s School Email', inplace=True)\n",
    "    skyward_emails = sky_df['Student\\'s School Email']\n",
    "    for email in skyward_emails:\n",
    "        # check if student has YouScience Results\n",
    "        check = ys_df.loc[ys_df.email == email]\n",
    "        if len(check) == 0:\n",
    "            # Then add their name to not_in_ys\n",
    "            student = sky_df.loc[sky_df['Student\\'s School Email'] == email]\n",
    "            first = str(student['Student First Name']).split('\\n')[0].split()[1]\n",
    "            last = str(student['Student Last Name']).split('\\n')[0].split()[1]\n",
    "            not_in_ys.append([first, last, email])\n",
    "    \n",
    "    # need to drop students from YS df that are not in 8th grade\n",
    "    ys_emails = ys_df.drop_duplicates('email').email\n",
    "    for email in ys_emails:\n",
    "        # check if they are in skyward\n",
    "        sky_check = sky_df.loc[sky_df['Student\\'s School Email'] == email]\n",
    "        if len(sky_check) == 0:\n",
    "            # Then remove them from pruned_df\n",
    "            pruned_df = pruned_df[pruned_df.email != email]\n",
    "    \n",
    "    print(f'{len(not_in_ys)} of {len(sky_df)} {school} 8th graders missing YouScience Results.')\n",
    "    return not_in_ys, pruned_df"
   ]
  },
  {
   "cell_type": "code",
   "execution_count": 3,
   "metadata": {},
   "outputs": [
    {
     "name": "stdout",
     "output_type": "stream",
     "text": [
      "97 of 431 Oakland Middle School 8th graders missing YouScience Results.\n",
      "52 of 425 Siegel Middle School 8th graders missing YouScience Results.\n",
      "73 of 317 Whitworth-Buchanan Middle School 8th graders missing YouScience Results.\n",
      "80 of 371 Christiana Middle School 8th graders missing YouScience Results.\n",
      "109 of 316 Smyrna Middle School 8th graders missing YouScience Results.\n",
      "52 of 381 Stewarts Creek Middle School 8th graders missing YouScience Results.\n",
      "91 of 543 Rockvale Middle School 8th graders missing YouScience Results.\n",
      "85 of 469 Rocky Fork Middle School 8th graders missing YouScience Results.\n",
      "124 of 612 Blackman Middle School 8th graders missing YouScience Results.\n",
      "1 of 81 Thurman Francis Arts Academy 8th graders missing YouScience Results.\n",
      "71 of 323 Rock Springs Middle School 8th graders missing YouScience Results.\n",
      "117 of 421 LaVergne Middle School 8th graders missing YouScience Results.\n",
      "\n",
      "- - -\n",
      "\n",
      "952 8th graders missing YouScience results across RCS.\n"
     ]
    }
   ],
   "source": [
    "# need to iterate through the files in the schools object\n",
    "schools = [\n",
    "    'Oakland Middle School',\n",
    "    'Siegel Middle School',\n",
    "    'Whitworth-Buchanan Middle School',\n",
    "    'Christiana Middle School',\n",
    "    'Smyrna Middle School',\n",
    "    'Stewarts Creek Middle School',\n",
    "    'Rockvale Middle School',\n",
    "    'Rocky Fork Middle School',\n",
    "    'Blackman Middle School',\n",
    "    'Thurman Francis Arts Academy',\n",
    "    'Rock Springs Middle School',\n",
    "    'LaVergne Middle School'\n",
    "]\n",
    "\n",
    "missing_ys_results = {}\n",
    "for school in schools:\n",
    "    # creating paths to various documents\n",
    "    base = '../YouScienceData/'\n",
    "    sky_path = base + 'Skyward/Skyward_' + school + '.xlsx'\n",
    "    ys_path = base + 'YouScience/YouScience_cluster_advising_' + school + '.csv' \n",
    "    # run comparisons on rosters length\n",
    "    missing_ys_results[school], df = compare_rosters(sky_path, ys_path)\n",
    "    df.to_csv(f'../YouScienceData/Updated_YouScience/{school}_YouScience.csv')\n",
    "    \n",
    "\n",
    "n = 0\n",
    "for school in schools:\n",
    "    n += len(missing_ys_results[school])\n",
    "print(f'\\n- - -\\n\\n{n} 8th graders missing YouScience results across RCS.')"
   ]
  },
  {
   "cell_type": "code",
   "execution_count": 39,
   "metadata": {},
   "outputs": [],
   "source": [
    "# export missing students roster\n",
    "for school in schools:\n",
    "    X = pd.DataFrame(missing_ys_results[school], columns=['First', 'Last', 'Email']).drop_duplicates()\n",
    "    X.to_csv(f'../YouScienceData/Missing_YS/{school}_missingYS.csv')\n"
   ]
  },
  {
   "cell_type": "code",
   "execution_count": null,
   "metadata": {},
   "outputs": [],
   "source": []
  }
 ],
 "metadata": {
  "kernelspec": {
   "display_name": "Python 3.9.12 64-bit",
   "language": "python",
   "name": "python3"
  },
  "language_info": {
   "codemirror_mode": {
    "name": "ipython",
    "version": 3
   },
   "file_extension": ".py",
   "mimetype": "text/x-python",
   "name": "python",
   "nbconvert_exporter": "python",
   "pygments_lexer": "ipython3",
   "version": "3.9.12"
  },
  "orig_nbformat": 4,
  "vscode": {
   "interpreter": {
    "hash": "b0fa6594d8f4cbf19f97940f81e996739fb7646882a419484c72d19e05852a7e"
   }
  }
 },
 "nbformat": 4,
 "nbformat_minor": 2
}
