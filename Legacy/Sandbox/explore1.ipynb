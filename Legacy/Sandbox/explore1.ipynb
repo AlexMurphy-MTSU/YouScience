{
 "cells": [
  {
   "cell_type": "code",
   "execution_count": null,
   "metadata": {},
   "outputs": [],
   "source": [
    "\"\"\"\n",
    "At the time of this notebook, we are lacking \n",
    "(1) OG script for the matching\n",
    "(2) indication of program size limitations (how many students can take a given course before backup choice)\n",
    "Goal: \n",
    "- Edit: <Explore the data and determine the demand of the various programs> Determine demands overall\n",
    "<> Determine the number of programs that exceed a demand of assumed 30 max capacity per allocated classroom\n",
    "- Are there any unfillable requests? Essentially, programs that are too highly demanded so that students \n",
    "    are put in a program outside of their preferences? \n",
    "\"\"\""
   ]
  },
  {
   "cell_type": "code",
   "execution_count": null,
   "metadata": {},
   "outputs": [],
   "source": [
    "import pandas as pd\n",
    "import numpy as np\n",
    "import seaborn as sns\n",
    "import matplotlib.pyplot as plt\n",
    "import os"
   ]
  },
  {
   "cell_type": "code",
   "execution_count": null,
   "metadata": {},
   "outputs": [],
   "source": [
    "# Initial choice is first school listed in \"Career Fairs Planning.xlsx\": Blackman MS/HS\n",
    "# NOTE: some high schools are fed by two MS, like Riverdale \n",
    "# read in POS offerings \n",
    "POS_path = \"../YouScienceData/Career Fairs Planning.xlsx\"\n",
    "POS_df = pd.read_excel(POS_path,\"Blackman MS_Blackman HS\")\n",
    "POS_df.head()"
   ]
  },
  {
   "cell_type": "code",
   "execution_count": null,
   "metadata": {},
   "outputs": [],
   "source": [
    "POS_df.POS[0:15]"
   ]
  },
  {
   "cell_type": "code",
   "execution_count": null,
   "metadata": {},
   "outputs": [],
   "source": [
    "# reading in Blackman MS student roster with preferences\n",
    "# NOTE: each student will have 3 entries ranked with their 1st-2nd-3rd choices\n",
    "roster_path = \"../YouScienceData/YouScience_cluster_advising_Blackman Middle School.csv\"\n",
    "roster_df = pd.read_csv(roster_path)\n",
    "roster_df.head()"
   ]
  },
  {
   "cell_type": "code",
   "execution_count": null,
   "metadata": {},
   "outputs": [],
   "source": [
    "len(roster_df)"
   ]
  },
  {
   "cell_type": "code",
   "execution_count": null,
   "metadata": {},
   "outputs": [],
   "source": [
    "# Pruning to relevant features\n",
    "pri_df = roster_df[roster_df.fit_rank == 1]\n",
    "pri_df.aptitude_fit.value_counts().plot.bar()"
   ]
  },
  {
   "cell_type": "code",
   "execution_count": null,
   "metadata": {},
   "outputs": [],
   "source": [
    "pri_df.interest_fit.value_counts().plot.bar()"
   ]
  },
  {
   "cell_type": "code",
   "execution_count": null,
   "metadata": {},
   "outputs": [],
   "source": [
    "apt = set(pri_df.aptitude_fit)\n",
    "print(len(apt), apt)\n",
    "interest = set(pri_df.interest_fit)\n",
    "print(len(interest), interest)"
   ]
  },
  {
   "cell_type": "code",
   "execution_count": null,
   "metadata": {},
   "outputs": [],
   "source": [
    "for col in apt:\n",
    "    pri_df.loc[pri_df.aptitude_fit == col, \"apt_\" + col] = 1\n",
    "for col in interest:\n",
    "    pri_df.loc[pri_df.interest_fit == col, \"int_\" + col] = 1\n",
    "\n",
    "pri_df.replace(np.nan,0,inplace=True)\n"
   ]
  },
  {
   "cell_type": "code",
   "execution_count": null,
   "metadata": {},
   "outputs": [],
   "source": [
    "pri_df.head()"
   ]
  },
  {
   "cell_type": "code",
   "execution_count": null,
   "metadata": {},
   "outputs": [],
   "source": [
    "cols = list(pri_df.columns)\n",
    "cooc_cols = []\n",
    "for col in cols:\n",
    "    if (\"apt_\" in col) or (\"int_\" in col):\n",
    "        cooc_cols.append(col)\n",
    "\n",
    "#cooc_cols "
   ]
  },
  {
   "cell_type": "code",
   "execution_count": null,
   "metadata": {},
   "outputs": [],
   "source": [
    "cooc_pre = pri_df[cooc_cols].astype(int)\n",
    "coocc = cooc_pre.T.dot(cooc_pre)\n",
    "np.fill_diagonal(coocc.values, 0)\n",
    "coocc.head()"
   ]
  },
  {
   "cell_type": "code",
   "execution_count": null,
   "metadata": {},
   "outputs": [],
   "source": [
    "apt_cols = []\n",
    "int_cols = []\n",
    "for col in cooc_cols:\n",
    "    if \"apt_\" in col:\n",
    "        apt_cols.append(col)\n",
    "    else:\n",
    "        int_cols.append(col)"
   ]
  },
  {
   "cell_type": "code",
   "execution_count": null,
   "metadata": {},
   "outputs": [],
   "source": [
    "# fig, ax = plt.subplots(figsize=(18,7))\n",
    "# sns.heatmap(coocc,annot=coocc.values, ax=ax)"
   ]
  },
  {
   "cell_type": "code",
   "execution_count": null,
   "metadata": {},
   "outputs": [],
   "source": [
    "# need to determine how aptitude and interests align\n",
    "demands = coocc[apt_cols]\n",
    "demands.drop(apt_cols, axis = 0, inplace=True)\n",
    "demands"
   ]
  },
  {
   "cell_type": "code",
   "execution_count": null,
   "metadata": {},
   "outputs": [],
   "source": [
    "fig, ax = plt.subplots(figsize=(18,7))\n",
    "sns.heatmap(demands, annot=demands.values, ax=ax)"
   ]
  }
 ],
 "metadata": {
  "interpreter": {
   "hash": "b0fa6594d8f4cbf19f97940f81e996739fb7646882a419484c72d19e05852a7e"
  },
  "kernelspec": {
   "display_name": "Python 3.9.12 64-bit",
   "language": "python",
   "name": "python3"
  },
  "language_info": {
   "codemirror_mode": {
    "name": "ipython",
    "version": 3
   },
   "file_extension": ".py",
   "mimetype": "text/x-python",
   "name": "python",
   "nbconvert_exporter": "python",
   "pygments_lexer": "ipython3",
   "version": "3.9.12"
  },
  "orig_nbformat": 4
 },
 "nbformat": 4,
 "nbformat_minor": 2
}
